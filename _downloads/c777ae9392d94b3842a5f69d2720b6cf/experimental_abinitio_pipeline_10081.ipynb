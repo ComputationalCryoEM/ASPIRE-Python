{
  "cells": [
    {
      "cell_type": "markdown",
      "metadata": {},
      "source": [
        "\n# Abinitio Pipeline - Experimental Data Empiar 10081\n\nThis notebook introduces a selection of\ncomponents corresponding to loading real Relion picked\nparticle cryo-EM data and running key ASPIRE-Python\nAbinitio model components as a pipeline.\n\nSpecifically this pipeline uses the\nEMPIAR 10081 picked particles data, available here:\n\nhttps://www.ebi.ac.uk/empiar/EMPIAR-10081\n\nhttps://www.ebi.ac.uk/emdb/EMD-8511\n"
      ]
    },
    {
      "cell_type": "markdown",
      "metadata": {},
      "source": [
        "## Imports\nFirst import some of the usual suspects.\nIn addition, import some classes from\nthe ASPIRE package that will be used throughout this experiment.\n\n"
      ]
    },
    {
      "cell_type": "code",
      "execution_count": null,
      "metadata": {
        "collapsed": false
      },
      "outputs": [],
      "source": [
        "import logging\nfrom pathlib import Path\n\nfrom aspire.abinitio import CLSymmetryC3C4\nfrom aspire.denoising import LegacyClassAvgSource\nfrom aspire.noise import AnisotropicNoiseEstimator\nfrom aspire.reconstruction import MeanEstimator\nfrom aspire.source import OrientedSource, RelionSource\n\nlogger = logging.getLogger(__name__)"
      ]
    },
    {
      "cell_type": "markdown",
      "metadata": {},
      "source": [
        "## Parameters\nExample simulation configuration.\n\n"
      ]
    },
    {
      "cell_type": "code",
      "execution_count": null,
      "metadata": {
        "collapsed": false
      },
      "outputs": [],
      "source": [
        "n_imgs = None  # Set to None for all images in starfile, can set smaller for tests.\nimg_size = 32  # Downsample the images/reconstruction to a desired resolution\nn_classes = 500  # How many class averages to compute.\nn_nbor = 100  # How many neighbors to stack\nstarfile_in = \"10081/data/particle_stacks/data.star\"\ndata_folder = \".\"  # This depends on the specific starfile entries.\nvolume_output_filename = f\"10081_abinitio_c{n_classes}_m{n_nbor}_{img_size}.mrc\"\npixel_size = 1.3"
      ]
    },
    {
      "cell_type": "markdown",
      "metadata": {},
      "source": [
        "## Source data and Preprocessing\n\n`RelionSource` is used to access the experimental data via a `starfile`.\nBegin by downsampling to our chosen resolution, then preprocess\nto correct for CTF and noise.\n\n"
      ]
    },
    {
      "cell_type": "code",
      "execution_count": null,
      "metadata": {
        "collapsed": false
      },
      "outputs": [],
      "source": [
        "# Create a source object for the experimental images\nsrc = RelionSource(\n    starfile_in,\n    pixel_size=pixel_size,\n    max_rows=n_imgs,\n    data_folder=data_folder,\n    symmetry_group=\"C4\",\n)\n\n# Downsample the images\nlogger.info(f\"Set the resolution to {img_size} X {img_size}\")\nsrc = src.downsample(img_size)\n\n# Use phase_flip to attempt correcting for CTF.\nlogger.info(\"Perform phase flip to input images.\")\nsrc = src.phase_flip()\n\n# Estimate the noise and `Whiten` based on the estimated noise\naiso_noise_estimator = AnisotropicNoiseEstimator(src)\nsrc = src.whiten(aiso_noise_estimator.filter)\n\n# Caching is used for speeding up large datasets on high memory machines.\nsrc = src.cache()"
      ]
    },
    {
      "cell_type": "markdown",
      "metadata": {},
      "source": [
        "## Class Averaging\n\nNow perform classification and averaging for each class.\n\n"
      ]
    },
    {
      "cell_type": "code",
      "execution_count": null,
      "metadata": {
        "collapsed": false
      },
      "outputs": [],
      "source": [
        "logger.info(\"Begin Class Averaging\")\n\n# Now perform classification and averaging for each class.\n# Automatically configure parallel processing\navgs = LegacyClassAvgSource(src, n_nbor=n_nbor)\n\n# We'll continue our pipeline with the first ``n_classes`` from ``avgs``.\navgs = avgs[:n_classes]\n\n# Save off the set of class average images.\navgs.save(\"experimental_10081_class_averages.star\")"
      ]
    },
    {
      "cell_type": "markdown",
      "metadata": {},
      "source": [
        "## Common Line Estimation\n\nNext create a CL instance for estimating orientation of projections\nusing the Common Line with Synchronization Voting method.\n\n"
      ]
    },
    {
      "cell_type": "code",
      "execution_count": null,
      "metadata": {
        "collapsed": false
      },
      "outputs": [],
      "source": [
        "logger.info(\"Begin Orientation Estimation\")\n\n# Create a custom orientation estimation object for ``avgs``.\norient_est = CLSymmetryC3C4(avgs, symmetry=\"C4\", n_theta=72, max_shift=0)\n\n# Create an ``OrientedSource`` class instance that performs orientation\n# estimation in a lazy fashion upon request of images or rotations.\noriented_src = OrientedSource(avgs, orient_est)"
      ]
    },
    {
      "cell_type": "markdown",
      "metadata": {},
      "source": [
        "## Volume Reconstruction\n\nUsing the oriented source, attempt to reconstruct a volume.  Since\nthis is a Cn symmetric molecule, as specified by ``RelionSource(...,\nsymmetry_group=\"C4\", ...)``, the ``symmetry_group`` source attribute\nwill flow through the pipeline to ``avgs``. Then each image will be\nrepeated for each of the 3 additional rotations during\nback-projection.  This boosts the effective number of images used in\nthe reconstruction from ``n_classes`` to ``4*n_classes``.\n\n"
      ]
    },
    {
      "cell_type": "code",
      "execution_count": null,
      "metadata": {
        "collapsed": false
      },
      "outputs": [],
      "source": [
        "logger.info(\"Begin Volume reconstruction\")\n\n\n# Setup an estimator to perform the back projection.\nestimator = MeanEstimator(oriented_src)\n\n# Perform the estimation and save the volume.\nestimated_volume = estimator.estimate()\nestimated_volume.save(volume_output_filename, overwrite=True)\nlogger.info(f\"Saved Volume to {str(Path(volume_output_filename).resolve())}\")"
      ]
    }
  ],
  "metadata": {
    "kernelspec": {
      "display_name": "Python 3",
      "language": "python",
      "name": "python3"
    },
    "language_info": {
      "codemirror_mode": {
        "name": "ipython",
        "version": 3
      },
      "file_extension": ".py",
      "mimetype": "text/x-python",
      "name": "python",
      "nbconvert_exporter": "python",
      "pygments_lexer": "ipython3",
      "version": "3.9.23"
    }
  },
  "nbformat": 4,
  "nbformat_minor": 0
}