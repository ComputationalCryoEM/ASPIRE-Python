{
  "cells": [
    {
      "cell_type": "markdown",
      "metadata": {},
      "source": [
        "\n# 2D Covariance Estimation\n\nThis script illustrates 2D covariance Wiener filtering functionality in the\nASPIRE package, implemented by estimating the covariance of the unfiltered\nimages in a Fourier-Bessel basis and applying the Wiener filter induced by\nthat covariance matrix.\n"
      ]
    },
    {
      "cell_type": "code",
      "execution_count": null,
      "metadata": {
        "collapsed": false
      },
      "outputs": [],
      "source": [
        "import os\n\nimport matplotlib.pyplot as plt\nimport numpy as np\n\nfrom aspire.basis import FFBBasis2D\nfrom aspire.covariance import RotCov2D\nfrom aspire.noise import WhiteNoiseAdder\nfrom aspire.operators import RadialCTFFilter\nfrom aspire.source.simulation import Simulation\nfrom aspire.utils import anorm\nfrom aspire.volume import Volume\n\nfile_path = os.path.join(\n    os.path.dirname(os.getcwd()), \"data\", \"clean70SRibosome_vol_65p.mrc\"\n)"
      ]
    },
    {
      "cell_type": "markdown",
      "metadata": {},
      "source": [
        "## Image Formatting\n\n"
      ]
    },
    {
      "cell_type": "code",
      "execution_count": null,
      "metadata": {
        "collapsed": false
      },
      "outputs": [],
      "source": [
        "# Set the sizes of images 64 x 64\nimg_size = 64\n# Set the total number of images generated from the 3D map\nnum_imgs = 1024\n# Set dtype for this experiment\ndtype = np.float32\nprint(f\"Simulation running in {dtype} precision.\")"
      ]
    },
    {
      "cell_type": "markdown",
      "metadata": {},
      "source": [
        "## Build Noise Filter\nSet the noise variance and build the noise filter\nIt might be better to select a signal noise ratio\nand initial noise inside the Simulation class.\n\n"
      ]
    },
    {
      "cell_type": "code",
      "execution_count": null,
      "metadata": {
        "collapsed": false
      },
      "outputs": [],
      "source": [
        "noise_var = 1.3957e-4\nnoise_adder = WhiteNoiseAdder(var=noise_var)"
      ]
    },
    {
      "cell_type": "markdown",
      "metadata": {},
      "source": [
        "## Specify the CTF Parameters\n\n"
      ]
    },
    {
      "cell_type": "code",
      "execution_count": null,
      "metadata": {
        "collapsed": false
      },
      "outputs": [],
      "source": [
        "pixel_size = 5 * 65 / img_size  # Pixel size of the images (in angstroms)\nvoltage = 200  # Voltage (in KV)\ndefocus_min = 1.5e4  # Minimum defocus value (in angstroms)\ndefocus_max = 2.5e4  # Maximum defocus value (in angstroms)\ndefocus_ct = 7  # Number of defocus groups.\nCs = 2.0  # Spherical aberration\nalpha = 0.1  # Amplitude contrast"
      ]
    },
    {
      "cell_type": "markdown",
      "metadata": {},
      "source": [
        "## Initialize Simulation Object and CTF Filters\n\n"
      ]
    },
    {
      "cell_type": "code",
      "execution_count": null,
      "metadata": {
        "collapsed": false
      },
      "outputs": [],
      "source": [
        "print(\"Initialize simulation object and CTF filters.\")\n# Create filters\nctf_filters = [\n    RadialCTFFilter(pixel_size, voltage, defocus=d, Cs=2.0, alpha=0.1)\n    for d in np.linspace(defocus_min, defocus_max, defocus_ct)\n]\n\n# Load the map file of a 70S Ribosome\nprint(\n    f\"Load 3D map and downsample 3D map to desired grids \"\n    f\"of {img_size} x {img_size} x {img_size}.\"\n)\nvols = Volume.load(file_path, dtype=dtype)\n\n# Scale and downsample\nvols[0] /= np.max(vols[0])\nvols = vols.downsample(img_size)\n\n# Create a simulation object with specified filters and the downsampled 3D map\nprint(\"Use downsampled map to create simulation object.\")\nsim = Simulation(\n    L=img_size,\n    n=num_imgs,\n    vols=vols,\n    unique_filters=ctf_filters,\n    offsets=0.0,\n    amplitudes=1.0,\n    dtype=dtype,\n    noise_adder=noise_adder,\n)"
      ]
    },
    {
      "cell_type": "markdown",
      "metadata": {},
      "source": [
        "## Build Clean and Noisy Projection Images\n\n"
      ]
    },
    {
      "cell_type": "code",
      "execution_count": null,
      "metadata": {
        "collapsed": false
      },
      "outputs": [],
      "source": [
        "# Specify the fast FB basis method for expanding the 2D images\nffbbasis = FFBBasis2D((img_size, img_size), dtype=dtype)\n\n# Assign the CTF information and index for each image\nh_idx = sim.filter_indices\n\n# Evaluate CTF in the 8X8 FB basis\nh_ctf_fb = [ffbbasis.filter_to_basis_mat(filt) for filt in ctf_filters]\n\n# Get clean images from projections of 3D map.\nprint(\"Apply CTF filters to clean images.\")\nimgs_clean = sim.projections[:]\nimgs_ctf_clean = sim.clean_images[:]\npower_clean = imgs_ctf_clean.norm() ** 2 / imgs_ctf_clean.size\nsn_ratio = power_clean / noise_var\nprint(f\"Signal to noise ratio is {sn_ratio}.\")\n\n# get noisy images after applying CTF and noise filters\nimgs_noise = sim.images[:num_imgs]"
      ]
    },
    {
      "cell_type": "markdown",
      "metadata": {},
      "source": [
        "## Expand Images in the Fourier-Bessel Basis\nExpand the images, both clean and noisy, in the Fourier-Bessel basis. This\ncan be done exactly (that is, up to numerical precision) using the\n``basis.expand`` function, but for our purposes, an approximation will do.\nSince the basis is close to orthonormal, we may approximate the exact\nexpansion by applying the adjoint of the evaluation mapping using\n``basis.evaluate_t``.\n\n"
      ]
    },
    {
      "cell_type": "code",
      "execution_count": null,
      "metadata": {
        "collapsed": false
      },
      "outputs": [],
      "source": [
        "print(\"Get coefficients of clean and noisy images in FFB basis.\")\ncoef_clean = ffbbasis.evaluate_t(imgs_clean)\ncoef_noise = ffbbasis.evaluate_t(imgs_noise)"
      ]
    },
    {
      "cell_type": "markdown",
      "metadata": {},
      "source": [
        "## Create Cov2D Object and Calculate Mean and Variance for Clean Images\nCreate the Cov2D object and calculate mean and covariance for clean images without CTF.\nGiven the clean Fourier-Bessel coefficients, we can estimate the symmetric\nmean and covariance. Note that these are not the same as the sample mean and\ncovariance, since these functions use the rotational and reflectional\nsymmetries of the distribution to constrain to further constrain the\nestimate. Note that the covariance matrix estimate is not a full matrix,\nbut is block diagonal. This form is a consequence of the symmetry\nconstraints, so to reduce space, only the diagonal blocks are stored. The\nmean and covariance estimates will allow us to evaluate the mean and\ncovariance estimates from the filtered, noisy data, later.\n\n"
      ]
    },
    {
      "cell_type": "code",
      "execution_count": null,
      "metadata": {
        "collapsed": false
      },
      "outputs": [],
      "source": [
        "print(\"Get 2D covariance matrices of clean and noisy images using FB coefficients.\")\ncov2d = RotCov2D(ffbbasis)\nmean_coef = cov2d.get_mean(coef_clean)\ncovar_coef = cov2d.get_covar(coef_clean, mean_coef, noise_var=0)"
      ]
    },
    {
      "cell_type": "markdown",
      "metadata": {},
      "source": [
        "## Estimate mean and covariance for noisy images with CTF and shrink method\nWe now estimate the mean and covariance from the Fourier-Bessel\ncoefficients of the noisy, filtered images. These functions take into\naccount the filters applied to each image to undo their effect on the\nestimates. For the covariance estimation, the additional information of\nthe estimated mean and the variance of the noise are needed. Again, the\ncovariance matrix estimate is provided in block diagonal form.\n\n"
      ]
    },
    {
      "cell_type": "code",
      "execution_count": null,
      "metadata": {
        "collapsed": false
      },
      "outputs": [],
      "source": [
        "covar_opt = {\n    \"shrinker\": \"frobenius_norm\",\n    \"verbose\": 0,\n    \"max_iter\": 250,\n    \"iter_callback\": [],\n    \"store_iterates\": False,\n    \"rel_tolerance\": 1e-12,\n    \"precision\": \"float64\",\n    \"preconditioner\": \"identity\",\n}\nmean_coef_est = cov2d.get_mean(coef_noise, h_ctf_fb, h_idx)\ncovar_coef_est = cov2d.get_covar(\n    coef_noise,\n    h_ctf_fb,\n    h_idx,\n    mean_coef_est,\n    noise_var=noise_var,\n    covar_est_opt=covar_opt,\n)"
      ]
    },
    {
      "cell_type": "markdown",
      "metadata": {},
      "source": [
        "## Estimate Fourier-Bessel Coefficients with Wiener Filter\nEstimate the Fourier-Bessel coefficients of the underlying images using a\nWiener filter. This Wiener filter is calculated from the estimated mean,\ncovariance, and the variance of the noise. The resulting estimator has\nthe lowest expected mean square error out of all linear estimators.\n\n"
      ]
    },
    {
      "cell_type": "code",
      "execution_count": null,
      "metadata": {
        "collapsed": false
      },
      "outputs": [],
      "source": [
        "print(\"Get the CWF coefficients of noising images.\")\ncoef_est = cov2d.get_cwf_coefs(\n    coef_noise,\n    h_ctf_fb,\n    h_idx,\n    mean_coef=mean_coef_est,\n    covar_coef=covar_coef_est,\n    noise_var=noise_var,\n)\n\n# Convert Fourier-Bessel coefficients back into 2D images\nimgs_est = ffbbasis.evaluate(coef_est)"
      ]
    },
    {
      "cell_type": "markdown",
      "metadata": {},
      "source": [
        "## Evaluate the Results\n\n"
      ]
    },
    {
      "cell_type": "code",
      "execution_count": null,
      "metadata": {
        "collapsed": false
      },
      "outputs": [],
      "source": [
        "# Calculate the difference between the estimated covariance and the \"true\"\n# covariance estimated from the clean Fourier-Bessel coefficients.\ncovar_coef_diff = covar_coef - covar_coef_est\n\n# Calculate the deviation between the clean estimates and those obtained from\n# the noisy, filtered images.\ndiff_mean = anorm(mean_coef_est - mean_coef) / anorm(mean_coef)\ndiff_covar = covar_coef_diff.norm() / covar_coef.norm()\n\n# Calculate the normalized RMSE of the estimated images.\nnrmse_ims = (imgs_est - imgs_clean).norm() / imgs_clean.norm()\nprint(f\"Deviation of the noisy mean estimate: {diff_mean}\")\nprint(f\"Deviation of the noisy covariance estimate: {diff_covar}\")\nprint(f\"Estimated images normalized RMSE: {nrmse_ims}\")\n\n# plot the first images at different stages\nidm = 0\nplt.subplot(2, 2, 1)\nplt.imshow(-imgs_noise.asnumpy()[idm], cmap=\"gray\")\nplt.colorbar()\nplt.title(\"Noise\")\nplt.subplot(2, 2, 2)\nplt.imshow(imgs_clean.asnumpy()[idm], cmap=\"gray\")\nplt.colorbar()\nplt.title(\"Clean\")\nplt.subplot(2, 2, 3)\nplt.imshow(imgs_est.asnumpy()[idm], cmap=\"gray\")\nplt.colorbar()\nplt.title(\"Estimated\")\nplt.subplot(2, 2, 4)\nplt.imshow(imgs_est.asnumpy()[idm] - imgs_clean.asnumpy()[idm], cmap=\"gray\")\nplt.colorbar()\nplt.title(\"Clean-Estimated\")\nplt.tight_layout()\n\n# Basic Check\nassert nrmse_ims < 0.25"
      ]
    }
  ],
  "metadata": {
    "kernelspec": {
      "display_name": "Python 3",
      "language": "python",
      "name": "python3"
    },
    "language_info": {
      "codemirror_mode": {
        "name": "ipython",
        "version": 3
      },
      "file_extension": ".py",
      "mimetype": "text/x-python",
      "name": "python",
      "nbconvert_exporter": "python",
      "pygments_lexer": "ipython3",
      "version": "3.9.23"
    }
  },
  "nbformat": 4,
  "nbformat_minor": 0
}