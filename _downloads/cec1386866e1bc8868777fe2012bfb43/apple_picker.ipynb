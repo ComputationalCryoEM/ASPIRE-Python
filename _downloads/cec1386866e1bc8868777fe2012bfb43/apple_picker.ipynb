{
  "cells": [
    {
      "cell_type": "markdown",
      "metadata": {},
      "source": [
        "\n# Apple Picker\n\nWe demonstrate ASPIRE's particle picking methods using the ``Apple`` class.\n"
      ]
    },
    {
      "cell_type": "code",
      "execution_count": null,
      "metadata": {
        "collapsed": false
      },
      "outputs": [],
      "source": [
        "import os\n\nimport matplotlib.pyplot as plt\nimport mrcfile\n\nfrom aspire.apple.apple import Apple"
      ]
    },
    {
      "cell_type": "markdown",
      "metadata": {},
      "source": [
        "## Read and Plot Micrograph\n\nHere we demonstrate reading in and plotting a raw micrograph.\n\n"
      ]
    },
    {
      "cell_type": "code",
      "execution_count": null,
      "metadata": {
        "collapsed": false
      },
      "outputs": [],
      "source": [
        "file_path = os.path.join(\n    os.path.dirname(os.getcwd()), \"data\", \"falcon_2012_06_12-14_33_35_0.mrc\"\n)\n\nwith mrcfile.open(file_path, mode=\"r\") as mrc:\n    micro_img = mrc.data\n\nplt.title(\"Sample Micrograph\")\nplt.imshow(micro_img, cmap=\"gray\")\nplt.show()"
      ]
    },
    {
      "cell_type": "markdown",
      "metadata": {},
      "source": [
        "## Initialize Apple\n\nInitiate ASPIRE's ``Apple`` class.\n``Apple`` admits many options relating to particle sizing and mrc processing.\n\n"
      ]
    },
    {
      "cell_type": "code",
      "execution_count": null,
      "metadata": {
        "collapsed": false
      },
      "outputs": [],
      "source": [
        "apple_picker = Apple(\n    particle_size=78, min_particle_size=19, max_particle_size=156, tau1=710, tau2=7100\n)"
      ]
    },
    {
      "cell_type": "markdown",
      "metadata": {},
      "source": [
        "## Pick Particles and Find Centers\n\nHere we use the ``process_micrograph`` method from the ``Apple`` class to find particles in the micrograph.\nIt will also return an image suitable for display, and optionally save a jpg.\n\n"
      ]
    },
    {
      "cell_type": "code",
      "execution_count": null,
      "metadata": {
        "collapsed": false
      },
      "outputs": [],
      "source": [
        "centers, particles_img = apple_picker.process_micrograph(file_path, create_jpg=True)\n\n# Note that if you only desire ``centers`` you may call ``process_micrograph_centers(file_path,...)``."
      ]
    },
    {
      "cell_type": "markdown",
      "metadata": {},
      "source": [
        "## Plot the Picked Particles\n\nObserve the number of particles picked and plot the result from ``Apple``.\n\n"
      ]
    },
    {
      "cell_type": "code",
      "execution_count": null,
      "metadata": {
        "collapsed": false
      },
      "outputs": [],
      "source": [
        "img_dim = micro_img.shape\nparticles = centers.shape[0]\nprint(f\"Dimensions of the micrograph are {img_dim}\")\nprint(f\"{particles} particles were picked\")\n\nplt.imshow(particles_img, cmap=\"gray\")\nplt.show()"
      ]
    }
  ],
  "metadata": {
    "kernelspec": {
      "display_name": "Python 3",
      "language": "python",
      "name": "python3"
    },
    "language_info": {
      "codemirror_mode": {
        "name": "ipython",
        "version": 3
      },
      "file_extension": ".py",
      "mimetype": "text/x-python",
      "name": "python",
      "nbconvert_exporter": "python",
      "pygments_lexer": "ipython3",
      "version": "3.9.23"
    }
  },
  "nbformat": 4,
  "nbformat_minor": 0
}