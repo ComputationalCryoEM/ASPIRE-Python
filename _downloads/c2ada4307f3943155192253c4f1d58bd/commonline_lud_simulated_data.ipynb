{
  "cells": [
    {
      "cell_type": "markdown",
      "metadata": {},
      "source": [
        "\n# Commonlines Method using LUD\n\nThis tutorial demonstrates using the Least Unsquared Deviations (LUD)\ncommonlines method for estimating particle orientations. This tutorial\nreproduces the \"Experiments on simulated images\" found in the publication:\n\nOrientation Determination of Cryo-EM Images Using Least Unsquared Deviations,\nL. Wang, A. Singer, and  Z. Wen, SIAM J. Imaging Sciences, 6, 2450-2483 (2013).\n"
      ]
    },
    {
      "cell_type": "markdown",
      "metadata": {},
      "source": [
        "## Imports\n\n"
      ]
    },
    {
      "cell_type": "code",
      "execution_count": null,
      "metadata": {
        "collapsed": false
      },
      "outputs": [],
      "source": [
        "import logging\nfrom fractions import Fraction\nfrom itertools import product\n\nimport numpy as np\n\nfrom aspire.abinitio import CommonlineIRLS, CommonlineLUD\nfrom aspire.noise import WhiteNoiseAdder\nfrom aspire.source import Simulation\nfrom aspire.utils import mean_aligned_angular_distance\nfrom aspire.volume import Volume\n\nlogger = logging.getLogger(__name__)"
      ]
    },
    {
      "cell_type": "markdown",
      "metadata": {},
      "source": [
        "## Parameters\nSet up some initializing parameters. We will run the LUD algorithm using ADMM\nand IRLS methods under various spectral norm constraints and levels of noise.\n\n"
      ]
    },
    {
      "cell_type": "code",
      "execution_count": null,
      "metadata": {
        "collapsed": false
      },
      "outputs": [],
      "source": [
        "SNR = [\"1/8\", \"1/16\", \"1/32\"]  # Signal-to-noise ratio\nMETHOD = [\"ADMM\", \"IRLS\"]\nALPHA = [0.90, 0.75, 0.67]  # Spectral norm constraint\nn_imgs = 500  # Number of images in our source\ndtype = np.float64\npad_size = 129"
      ]
    },
    {
      "cell_type": "markdown",
      "metadata": {},
      "source": [
        "## Load Volume Map\nWe will generate simulated noisy images from a low res volume\nmap available in our data folder. This volume map is a 65 x 65 x 65\nvoxel volume which we intend to upsample to 129 x 129 x 129.\nTo do this we use our ``downsample`` method which, when provided a voxel\nsize larger than the input volume, internally zero-pads in Fourier\nspace to increase the overall shape of the volume.\n\n"
      ]
    },
    {
      "cell_type": "code",
      "execution_count": null,
      "metadata": {
        "collapsed": false
      },
      "outputs": [],
      "source": [
        "vol = (\n    Volume.load(\"../tutorials/data/clean70SRibosome_vol_65p.mrc\")\n    .astype(dtype)\n    .downsample(pad_size)\n)\nlogger.info(\"Volume map data\" f\" shape: {vol.shape} dtype:{vol.dtype}\")"
      ]
    },
    {
      "cell_type": "markdown",
      "metadata": {},
      "source": [
        "## Generate Noisy Images and Estimate Rotations\nA ``Simulation`` object is used to generate simulated data at various\nnoise levels. Then rotations are estimated using the ``CommonlineLUD`` and\n``CommonlineIRLS`` algorithms. Results are measured by computing the mean\naligned angular distance between the ground truth rotations and the globally\naligned estimated rotations.\n\n"
      ]
    },
    {
      "cell_type": "code",
      "execution_count": null,
      "metadata": {
        "collapsed": false
      },
      "outputs": [],
      "source": [
        "# Build table to dislay results.\ncol_width = 21\ntable = []\ntable.append(\n    f\"{'METHOD':<{col_width}} {'SNR':<{col_width}} {'ALPHA':<{col_width}} {'Mean Angular Distance':<{col_width}}\"\n)\ntable.append(\"-\" * (col_width * 4))\n\nfor method, snr, alpha in product(METHOD, SNR, ALPHA):\n    # Generate a white noise adder with specified SNR.\n    noise_adder = WhiteNoiseAdder.from_snr(snr=Fraction(snr))\n\n    # Initialize a Simulation source to generate noisy, centered images.\n    src = Simulation(\n        n=n_imgs,\n        vols=vol,\n        offsets=0,\n        amplitudes=1,\n        noise_adder=noise_adder,\n        dtype=dtype,\n    ).cache()\n\n    # Estimate rotations using the LUD algorithm.\n    if method == \"ADMM\":\n        orient_est = CommonlineLUD(src, alpha=alpha)\n    else:\n        orient_est = CommonlineIRLS(src, alpha=alpha)\n    est_rotations = orient_est.estimate_rotations()\n\n    # Find the mean aligned angular distance between estimates and ground truth rotations.\n    mean_ang_dist = mean_aligned_angular_distance(est_rotations, src.rotations)\n\n    # Append results to table.\n    table.append(\n        f\"{method:<{col_width}} {snr:<{col_width}} {str(alpha):<{col_width}} {mean_ang_dist:<{col_width}}\"\n    )"
      ]
    },
    {
      "cell_type": "markdown",
      "metadata": {},
      "source": [
        "## Display Results\nDisplay table of results for both methods using various spectral norm\nconstraints and noise levels.\n\n"
      ]
    },
    {
      "cell_type": "code",
      "execution_count": null,
      "metadata": {
        "collapsed": false
      },
      "outputs": [],
      "source": [
        "logger.info(\"\\n\" + \"\\n\".join(table))"
      ]
    }
  ],
  "metadata": {
    "kernelspec": {
      "display_name": "Python 3",
      "language": "python",
      "name": "python3"
    },
    "language_info": {
      "codemirror_mode": {
        "name": "ipython",
        "version": 3
      },
      "file_extension": ".py",
      "mimetype": "text/x-python",
      "name": "python",
      "nbconvert_exporter": "python",
      "pygments_lexer": "ipython3",
      "version": "3.9.23"
    }
  },
  "nbformat": 4,
  "nbformat_minor": 0
}