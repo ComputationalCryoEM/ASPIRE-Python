{
  "cells": [
    {
      "cell_type": "markdown",
      "metadata": {},
      "source": [
        "\n# Generating 3D Volume Projections\n\nThis script illustrates using ASPIRE's Simulation source to\ngenerate projections of a Volume using prescribed rotations.\n"
      ]
    },
    {
      "cell_type": "code",
      "execution_count": null,
      "metadata": {
        "collapsed": false
      },
      "outputs": [],
      "source": [
        "import os\n\nimport numpy as np\n\nfrom aspire.noise import WhiteNoiseAdder\nfrom aspire.source.simulation import Simulation\nfrom aspire.utils import Rotation\nfrom aspire.volume import Volume"
      ]
    },
    {
      "cell_type": "markdown",
      "metadata": {},
      "source": [
        "## Configure how many images we'd like to project\n\n"
      ]
    },
    {
      "cell_type": "code",
      "execution_count": null,
      "metadata": {
        "collapsed": false
      },
      "outputs": [],
      "source": [
        "n_img = 10"
      ]
    },
    {
      "cell_type": "markdown",
      "metadata": {},
      "source": [
        "## Load our Volume data\nThis example starts with an mrc, which can be loaded as an ASPIRE Volume.\n\n"
      ]
    },
    {
      "cell_type": "code",
      "execution_count": null,
      "metadata": {
        "collapsed": false
      },
      "outputs": [],
      "source": [
        "file_path = os.path.join(\n    os.path.dirname(os.getcwd()), \"data\", \"clean70SRibosome_vol_65p.mrc\"\n)\nv = Volume.load(file_path, dtype=np.float64)\n\n# Then we downsample to 60x60x60\nv.downsample(60)"
      ]
    },
    {
      "cell_type": "markdown",
      "metadata": {},
      "source": [
        "## Defining rotations\nWe generate a collection of in-plane rotations about the z-axis.\n\n"
      ]
    },
    {
      "cell_type": "code",
      "execution_count": null,
      "metadata": {
        "collapsed": false
      },
      "outputs": [],
      "source": [
        "# First get a list of angles to test\nthetas = np.linspace(0, 2 * np.pi, num=n_img, endpoint=False)\n\n# Instantiate ASPIRE's Rotation class with the set of angles.\n# This will allow us to use or access the rotations in a variety of ways.\nrots = Rotation.about_axis(\"z\", thetas, dtype=np.float64)"
      ]
    },
    {
      "cell_type": "markdown",
      "metadata": {},
      "source": [
        "## Configure Noise\nWe can define controlled noise and have the Simulation apply it to our projection images.\n\n"
      ]
    },
    {
      "cell_type": "code",
      "execution_count": null,
      "metadata": {
        "collapsed": false
      },
      "outputs": [],
      "source": [
        "noise_variance = 1e-10  # Normally this would be derived from a desired SNR.\n\n# Then create a CustomNoiseAdder based on that variance, which is passed to Simulation.\nwhite_noise_adder = WhiteNoiseAdder(var=noise_variance)"
      ]
    },
    {
      "cell_type": "markdown",
      "metadata": {},
      "source": [
        "## Setup Simulation Source\n\n"
      ]
    },
    {
      "cell_type": "code",
      "execution_count": null,
      "metadata": {
        "collapsed": false
      },
      "outputs": [],
      "source": [
        "# Simulation will randomly shift and amplify images by default.\n# Instead we define the following parameters.\nshifts = np.zeros((n_img, 2))\namplitudes = np.ones(n_img)\n\n# Create a Simulation Source object\nsrc = Simulation(\n    vols=v,  # our Volume\n    L=v.resolution,  # resolution, should match Volume\n    n=n_img,  # number of projection images\n    angles=rots.angles,  # pass our rotations as Euler angles\n    offsets=shifts,  # translations (wrt to origin)\n    amplitudes=amplitudes,  # amplification ( 1 is identity)\n    seed=12345,  # RNG seed for reproducibility\n    dtype=v.dtype,  # match our datatype to the Volume.\n    noise_adder=white_noise_adder,  # optionally prescribe noise\n)"
      ]
    },
    {
      "cell_type": "markdown",
      "metadata": {},
      "source": [
        "## Yield projection images from the Simulation Source\n\n"
      ]
    },
    {
      "cell_type": "code",
      "execution_count": null,
      "metadata": {
        "collapsed": false
      },
      "outputs": [],
      "source": [
        "# Consume images from the source by providing\n# a starting index and number of images.\n# Here we generate the first 3 and peek at them.\nsrc.images[:3].show()\nsrc.projections[:3].show()\n\n# Here we return the first n_img images as a numpy array.\ndirty_ary = src.images[:n_img].asnumpy()\n\n# And we have access to the clean images\nclean_ary = src.projections[:n_img].asnumpy()\n\n# Similary, the angles/rotations/shifts/amplitudes etc."
      ]
    }
  ],
  "metadata": {
    "kernelspec": {
      "display_name": "Python 3",
      "language": "python",
      "name": "python3"
    },
    "language_info": {
      "codemirror_mode": {
        "name": "ipython",
        "version": 3
      },
      "file_extension": ".py",
      "mimetype": "text/x-python",
      "name": "python",
      "nbconvert_exporter": "python",
      "pygments_lexer": "ipython3",
      "version": "3.9.23"
    }
  },
  "nbformat": 4,
  "nbformat_minor": 0
}