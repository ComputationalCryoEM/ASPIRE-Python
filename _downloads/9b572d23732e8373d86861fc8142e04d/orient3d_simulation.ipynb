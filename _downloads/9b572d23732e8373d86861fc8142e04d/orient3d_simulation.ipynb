{
  "cells": [
    {
      "cell_type": "markdown",
      "metadata": {},
      "source": [
        "\n# 3D Image Orientation\n\nThis script illustrates the estimation of orientation angles using a synchronization\nmatrix and the voting method, based on simulated data projected from a 3D cryo-EM map.\n"
      ]
    },
    {
      "cell_type": "code",
      "execution_count": null,
      "metadata": {
        "collapsed": false
      },
      "outputs": [],
      "source": [
        "import os\n\nimport numpy as np\n\nfrom aspire.abinitio import CLSyncVoting\nfrom aspire.operators import RadialCTFFilter\nfrom aspire.source import OrientedSource, Simulation\nfrom aspire.utils import mean_aligned_angular_distance\nfrom aspire.volume import Volume\n\nfile_path = os.path.join(\n    os.path.dirname(os.getcwd()), \"data\", \"clean70SRibosome_vol_65p.mrc\"\n)\n\nprint(\n    \"This script illustrates orientation estimation using \"\n    \"synchronization matrix and voting method\"\n)"
      ]
    },
    {
      "cell_type": "markdown",
      "metadata": {},
      "source": [
        "## Initialize Simulation Object and CTF Filters\n\n"
      ]
    },
    {
      "cell_type": "code",
      "execution_count": null,
      "metadata": {
        "collapsed": false
      },
      "outputs": [],
      "source": [
        "# Define a precision for this experiment\ndtype = np.float32\n\n# Set the sizes of images\nimg_size = 33\n\n# Set the total number of images generated from the 3D map\nnum_imgs = 128\n\n# Specify the CTF parameters not used for this example\n# but necessary for initializing the simulation object\npixel_size = 5  # Pixel size of the images (in angstroms)\nvoltage = 200  # Voltage (in KV)\ndefocus_min = 1.5e4  # Minimum defocus value (in angstroms)\ndefocus_max = 2.5e4  # Maximum defocus value (in angstroms)\ndefocus_ct = 7  # Number of defocus groups.\nCs = 2.0  # Spherical aberration\nalpha = 0.1  # Amplitude contrast\n\nprint(\"Initialize simulation object and CTF filters.\")\n# Create CTF filters\nfilters = [\n    RadialCTFFilter(pixel_size, voltage, defocus=d, Cs=2.0, alpha=0.1)\n    for d in np.linspace(defocus_min, defocus_max, defocus_ct)\n]"
      ]
    },
    {
      "cell_type": "markdown",
      "metadata": {},
      "source": [
        "## Downsampling\n\n"
      ]
    },
    {
      "cell_type": "code",
      "execution_count": null,
      "metadata": {
        "collapsed": false
      },
      "outputs": [],
      "source": [
        "# Load the map file of a 70S Ribosome and downsample the 3D map to desired resolution.\n# The downsampling can be done by the internal function of Volume object.\nprint(\n    f\"Load 3D map and downsample 3D map to desired grids \"\n    f\"of {img_size} x {img_size} x {img_size}.\"\n)\nvols = Volume.load(file_path, dtype=dtype)\nvols = vols.downsample(img_size)"
      ]
    },
    {
      "cell_type": "markdown",
      "metadata": {},
      "source": [
        "## Create Simulation Object and Obtain True Rotation Angles\n\n"
      ]
    },
    {
      "cell_type": "code",
      "execution_count": null,
      "metadata": {
        "collapsed": false
      },
      "outputs": [],
      "source": [
        "# Create a simulation object with specified filters and the downsampled 3D map\nprint(\"Use downsampled map to creat simulation object.\")\nsim = Simulation(L=img_size, n=num_imgs, vols=vols, unique_filters=filters, dtype=dtype)\n\nprint(\"Get true rotation angles generated randomly by the simulation object.\")\nrots_true = sim.rotations"
      ]
    },
    {
      "cell_type": "markdown",
      "metadata": {},
      "source": [
        "## Estimate Orientation\n\n"
      ]
    },
    {
      "cell_type": "code",
      "execution_count": null,
      "metadata": {
        "collapsed": false
      },
      "outputs": [],
      "source": [
        "# Initialize an orientation estimation object and create an\n# ``OrientedSource`` object to perform viewing angle and image offset\n# estimation. Here, because of the small image size of the\n# ``Simulation``, we customize the ``CLSyncVoting`` method to use\n# fewer theta values when searching for common-lines between pairs of\n# images. Additionally, since we are processing images with no noise,\n# we opt not to use a ``fuzzy_mask``, an option that improves\n# common-line detection in higher noise regimes.\nprint(\n    \"Estimate rotation angles and offsets using synchronization matrix and voting method.\"\n)\norient_est = CLSyncVoting(sim, n_theta=36, mask=False)\noriented_src = OrientedSource(sim, orient_est)\nrots_est = oriented_src.rotations"
      ]
    },
    {
      "cell_type": "markdown",
      "metadata": {},
      "source": [
        "## Mean Angular Distance\n\n"
      ]
    },
    {
      "cell_type": "code",
      "execution_count": null,
      "metadata": {
        "collapsed": false
      },
      "outputs": [],
      "source": [
        "# ``mean_aligned_angular_distance`` will perform global alignment of the estimated rotations\n# to the ground truth and find the mean angular distance between them (in degrees).\nmean_ang_dist = mean_aligned_angular_distance(rots_est, rots_true)\nprint(\n    f\"Mean angular distance between estimates and ground truth: {mean_ang_dist} degrees\"\n)\n\n# Basic Check\nassert mean_ang_dist < 10"
      ]
    },
    {
      "cell_type": "markdown",
      "metadata": {},
      "source": [
        "## Offsets Estimation\n\n"
      ]
    },
    {
      "cell_type": "code",
      "execution_count": null,
      "metadata": {
        "collapsed": false
      },
      "outputs": [],
      "source": [
        "# The ground truth offsets from the simulation can be compared to\n# those estimated by the commonlines method above.\n\n# Calculate Estimation error in pixels for each image.\noffs_diff = np.sqrt(np.sum((oriented_src.offsets - sim.offsets) ** 2, axis=1))\n\n# Calculate the mean error in pixels across all images.\noffs_err = offs_diff.mean()\nprint(f\"Mean offset error in pixels {offs_err}, approx {offs_err/img_size*100:.1f}%\")"
      ]
    }
  ],
  "metadata": {
    "kernelspec": {
      "display_name": "Python 3",
      "language": "python",
      "name": "python3"
    },
    "language_info": {
      "codemirror_mode": {
        "name": "ipython",
        "version": 3
      },
      "file_extension": ".py",
      "mimetype": "text/x-python",
      "name": "python",
      "nbconvert_exporter": "python",
      "pygments_lexer": "ipython3",
      "version": "3.9.23"
    }
  },
  "nbformat": 4,
  "nbformat_minor": 0
}