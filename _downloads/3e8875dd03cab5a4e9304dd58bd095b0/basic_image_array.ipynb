{
  "cells": [
    {
      "cell_type": "markdown",
      "metadata": {},
      "source": [
        "\n# Basic Image Array\n\nIn this example we will demonstrate some of ASPIRE's image processing functionality.\nWe will add noise to a stack of copies of a stock image. We will then estimate and\nwhiten that noise using some tools from the ASPIRE pipeline.\n"
      ]
    },
    {
      "cell_type": "code",
      "execution_count": null,
      "metadata": {
        "collapsed": false
      },
      "outputs": [],
      "source": [
        "import matplotlib.pyplot as plt\nimport numpy as np\nfrom scipy.datasets import face\n\nfrom aspire.image import Image\nfrom aspire.noise import AnisotropicNoiseEstimator, CustomNoiseAdder, WhiteNoiseAdder\nfrom aspire.operators import FunctionFilter\nfrom aspire.source import ArrayImageSource"
      ]
    },
    {
      "cell_type": "markdown",
      "metadata": {},
      "source": [
        "## Stock Image\nLets get some basic image data as a numpy array.\nScipy ships with a portrait.\n\n"
      ]
    },
    {
      "cell_type": "code",
      "execution_count": null,
      "metadata": {
        "collapsed": false
      },
      "outputs": [],
      "source": [
        "# We'll take the grayscale representation as floating point data.\nstock_img = face(gray=True).astype(np.float32)\n\n# Crop to a square\nn_pixels = min(stock_img.shape)\nstock_img = stock_img[0:n_pixels, 0:n_pixels]\n# Normalize to [0,1]\nstock_img /= np.max(stock_img)"
      ]
    },
    {
      "cell_type": "markdown",
      "metadata": {},
      "source": [
        "## Add Noise to the Image\nNow that we have an example array, we will begin using the ASPIRE toolkit.\nFirst we will make an ASPIRE Image instance out of our data.\nThis is a light wrapper over the numpy array. Many ASPIRE internals\nare built around an ``Image`` class.\n\n"
      ]
    },
    {
      "cell_type": "code",
      "execution_count": null,
      "metadata": {
        "collapsed": false
      },
      "outputs": [],
      "source": [
        "# Construct the Image class by passing it an array of data.\nimg = Image(stock_img)\n# Downsample (just to speeds things up)\nnew_resolution = img.resolution // 4\nimg = img.downsample(new_resolution)\n\n\n# We will begin processing by adding some noise.\n# We would like to create uniform noise for a 2d image with prescibed variance,\nnoise_var = np.var(img.asnumpy()) * 5\n\n# Then create a WhiteNoiseAdder.\nnoise = WhiteNoiseAdder(var=noise_var, seed=123)\n\n# We can apply the WhiteNoiseAdder to our image data.\nimg_with_noise = noise.forward(img)\n\n# We will plot the original and first noisy image,\n# because we only have one image in our Image stack right now.\nfig, axs = plt.subplots(1, 2)\naxs[0].imshow(img.asnumpy()[0], cmap=plt.cm.gray)\naxs[0].set_title(\"Starting Image\")\naxs[1].imshow(img_with_noise.asnumpy()[0], cmap=plt.cm.gray)\naxs[1].set_title(\"Noisy Image\")\nplt.tight_layout()\nplt.show()"
      ]
    },
    {
      "cell_type": "markdown",
      "metadata": {},
      "source": [
        "## Adding Noise to a Simulated Stack of Images\n\nGreat, now we have enough to try an experiment.\nThis time we will use a stack of images.\nIn real use, you would probably bring your own array of images,\nor use a ``Simulation`` object.  For now we'll create some arrays as before.\nFor demonstration we'll setup a stack of n_imgs,\nwith each image just being a copy of the data from ``img``.\n\n"
      ]
    },
    {
      "cell_type": "code",
      "execution_count": null,
      "metadata": {
        "collapsed": false
      },
      "outputs": [],
      "source": [
        "n_imgs = 128\nimgs_data = np.empty((n_imgs, img.resolution, img.resolution), dtype=np.float64)\nfor i in range(n_imgs):\n    imgs_data[i] = img[0]\nimgs = Image(imgs_data)\n\n\n# Lets say we want to add different kind of noise to the images.\n# We can create our own function. Here we want to apply in two dimensions.\ndef noise_function(x, y):\n    return np.exp(-(x * x + y * y) / (2 * 0.3**2))\n\n\n# We can create a custom filter from that function.\nf = FunctionFilter(noise_function)\n# And use the filter to add the noise to our stack of images.\nnoise_adder = CustomNoiseAdder(noise_filter=f, seed=123)\nimgs_with_noise = noise_adder.forward(imgs)\n\n# Let's see the first two noisy images.\n# They should each display slightly different noise.\nfig, axs = plt.subplots(2, 2)\nfor i, img in enumerate(imgs_with_noise[0:2].asnumpy()):\n    axs[0, i].imshow(img, cmap=plt.cm.gray)\n    axs[0, i].set_title(f\"Custom Noisy Image {i}\")\n    img_with_noise_f = np.abs(np.fft.fftshift(np.fft.fft2(img)))\n    axs[1, i].imshow(np.log(1 + img_with_noise_f), cmap=plt.cm.gray)\n    axs[1, i].set_title(f\"Custom Noisy Spectrum Image {i}\")\nplt.tight_layout()\nplt.show()"
      ]
    },
    {
      "cell_type": "markdown",
      "metadata": {},
      "source": [
        "## Noise Estimation and Whitening\n\nNow we will use an ASPIRE pipeline to whiten the image stack.\nHere we will introduce our ``Source`` class and demonstrate applying an ``Xform``.\n\n"
      ]
    },
    {
      "cell_type": "code",
      "execution_count": null,
      "metadata": {
        "collapsed": false
      },
      "outputs": [],
      "source": [
        "# ``Source`` classes are what we use in processing pipelines.\n# They provide a consistent interface to a variety of underlying data sources.\n# In this case, we'll just use our Image in an ArrayImageSource to run a small experiment.\n#\n# If you were happy with the experiment design on an array of test data,\n# the source is easily swapped out to something like RelionSource,\n# which might point at a stack of images too large to fit in memory at once.\n# The implementation of batching for memory management\n# would be managed behind the scenes for you.\n\nimgs_src = ArrayImageSource(imgs_with_noise)\n\n# We'll copy the orginals for comparison later, before we process them further.\nnoisy_imgs_copy = imgs_src.images[:n_imgs].asnumpy()\n\n# One of the tools we can use is a NoiseEstimator,\n#   which consumes from a Source.\nnoise_estimator = AnisotropicNoiseEstimator(imgs_src)\n\n# Once we have the estimator instance,\n#   we can use it in a transform applied to our Source.\nimgs_src = imgs_src.whiten(noise_estimator)\n\n\n# Peek at two whitened images and their corresponding spectrum.\nfig, axs = plt.subplots(2, 2)\nfor i, img in enumerate(imgs_src.images[:2].asnumpy()):\n    axs[0, i].imshow(img, cmap=plt.cm.gray)\n    axs[0, i].set_title(f\"Whitened Noisy Image {i}\")\n    img_with_noise_f = np.abs(np.fft.fftshift(np.fft.fft2(img)))\n    axs[1, i].imshow(np.log(1 + img_with_noise_f), cmap=plt.cm.gray)\n    axs[1, i].set_title(f\"Whitened Noisy Image Spectrum {i}\")\nplt.tight_layout()\nplt.show()"
      ]
    },
    {
      "cell_type": "markdown",
      "metadata": {},
      "source": [
        "## Power Spectral Density\nWe will also want to take a look at the power spectral density.\nSince we just want to see the character of what is happening,\nWe will assume each pixel's contribution is placed at its lower left corner,\nand compute a crude radial profile.\nCode from a discussion at https://stackoverflow.com/questions/21242011/most-efficient-way-to-calculate-radial-profile.\n\n"
      ]
    },
    {
      "cell_type": "code",
      "execution_count": null,
      "metadata": {
        "collapsed": false
      },
      "outputs": [],
      "source": [
        "def radial_profile(data):\n    y, x = np.indices((data.shape))\n    # Distance from origin to lower left corner\n    r = np.sqrt(x**2 + y**2).astype(int)\n    binsum = np.bincount(r.ravel(), np.log(1 + data.ravel()))\n    bincount = np.bincount(r.ravel())\n    # Return the mean per bin\n    return binsum / bincount\n\n\n# Lets pickout several images and plot their the radial profile of their noise.\ncolors = [\"r\", \"g\", \"b\", \"k\", \"c\"]\nfor i, img in enumerate(imgs_src.images[: len(colors)].asnumpy()):\n    img_with_noise_f = np.abs(np.fft.fftshift(np.fft.fft2(noisy_imgs_copy[i])))\n    plt.plot(\n        radial_profile(img_with_noise_f),\n        color=colors[i],\n        label=f\"Noisy Image Radial Profile {i}\",\n    )\n\n    whitened_img_with_noise_f = np.abs(np.fft.fftshift(np.fft.fft2(img)))\n    plt.plot(\n        radial_profile(whitened_img_with_noise_f),\n        color=colors[i],\n        linestyle=\"--\",\n        label=f\"Whitened Noisy Image Radial Profile {i}\",\n    )\n\nplt.title(\"Spectrum Profiles\")\nplt.gca().legend(loc=\"upper center\", bbox_to_anchor=(0.5, -0.1))\nplt.tight_layout()\nplt.show()"
      ]
    }
  ],
  "metadata": {
    "kernelspec": {
      "display_name": "Python 3",
      "language": "python",
      "name": "python3"
    },
    "language_info": {
      "codemirror_mode": {
        "name": "ipython",
        "version": 3
      },
      "file_extension": ".py",
      "mimetype": "text/x-python",
      "name": "python",
      "nbconvert_exporter": "python",
      "pygments_lexer": "ipython3",
      "version": "3.9.23"
    }
  },
  "nbformat": 4,
  "nbformat_minor": 0
}