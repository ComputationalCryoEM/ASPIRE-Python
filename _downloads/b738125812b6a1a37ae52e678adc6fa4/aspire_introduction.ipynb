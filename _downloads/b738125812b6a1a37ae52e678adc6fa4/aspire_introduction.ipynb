{
  "cells": [
    {
      "cell_type": "markdown",
      "metadata": {},
      "source": [
        "\n# ASPIRE-Python Introduction\n\nIn this notebook we will introduce the core API components, then\ndemonstrate basic usage corresponding to topics from Princeton's\nMAT586.\n"
      ]
    },
    {
      "cell_type": "markdown",
      "metadata": {},
      "source": [
        "## Installation\n\nASPIRE can generally install on Linux, Mac, and Windows under\nAnaconda Python, by following the instructions in the README.  [The\ninstructions for developers is the most comprehensive](https://github.com/ComputationalCryoEM/ASPIRE-Python/blob/main/README.md#for-developers).\nWindows is provided, but generally Linux and MacOS are recommended,\nwith Linux being the most diversely tested platform.\n\n\n"
      ]
    },
    {
      "cell_type": "markdown",
      "metadata": {},
      "source": [
        "### Princeton Research Computing\nASPIRE requires some resources to run, so if you wouldn't run\ntypical data science codes on your machine (a netbook for example),\nyou may use Tiger/Adroit/Della at Princeton or another cluster.\nAfter logging into Tiger, ``module load anaconda3/2020.7`` and\ncontinue to follow the Anaconda instructions for developers in the\nlink above.  Those instructions should create a working environment\nfor tinkering with ASPIRE code found in this notebook.\n\n"
      ]
    },
    {
      "cell_type": "markdown",
      "metadata": {},
      "source": [
        "### Imports\nFirst we import some typical scientific computing packages.\nAlong the way we will import relevant components from ``aspire``.\nUsers may also import ``aspire`` once as a top level package.\n\n"
      ]
    },
    {
      "cell_type": "code",
      "execution_count": null,
      "metadata": {
        "collapsed": false
      },
      "outputs": [],
      "source": [
        "import os\n\nimport matplotlib.pyplot as plt\nimport numpy as np\n\nimport aspire\nfrom aspire.image import Image"
      ]
    },
    {
      "cell_type": "markdown",
      "metadata": {},
      "source": [
        "## API Primitives\nThe ASPIRE framework is a collection of modules containing\ninteroperable extensible components.  Underlying the more\nsophisticated components and algorithms are some core data\nstructures.  Sophisticated components are designed to interoperate\nby exchanging, consuming, or producing these basic structures.  The\nmost common structures encountered when starting out are:\n\n"
      ]
    },
    {
      "cell_type": "markdown",
      "metadata": {},
      "source": [
        ".. list-table:: Core API Components\n   :header-rows: 1\n\n   * - Component\n     - Description\n   * - ``Coef``\n     - Utility class for stacks of 1D arrays.\n   * - ``Image``\n     - Utility class for stacks of 2D arrays.\n   * - ``Volume``\n     - Utility class for stacks of 3D arrays.\n   * - ``Rotations``\n     - Utility class for stacks of 3D rotations.\n   * - ``Filter``\n     - Constructs and applies Image filters.\n   * - ``Basis``\n     - Basis conversions and operations.\n   * - ``Source``\n     - Produces primitive components. ``ImageSource`` produces ``Image`` instances.\n\n"
      ]
    },
    {
      "cell_type": "markdown",
      "metadata": {},
      "source": [
        "## ``Image`` Class\n\nThe [Image](https://computationalcryoem.github.io/ASPIRE-Python/aspire.image.html#aspire.image.image.Image)\nclass is a thin wrapper over Numpy arrays for a stack containing 1\nor more images (2D data).  In this notebook we won't be working\ndirectly with the ``Image`` class a lot, but it will be one of the\nfundamental structures behind the scenes.  A lot of ASPIRE code\npasses around ``Image`` and ``Volume`` instances.\n\n"
      ]
    },
    {
      "cell_type": "markdown",
      "metadata": {},
      "source": [
        "Create an ``Image`` instance from random data.\n\n"
      ]
    },
    {
      "cell_type": "code",
      "execution_count": null,
      "metadata": {
        "collapsed": false
      },
      "outputs": [],
      "source": [
        "img_data = np.random.random((100, 100))\nimg = Image(img_data)\nprint(f\"img shape: {img.shape}\")  # Note this produces a stack of one.\nprint(f\"str(img): {img}\")"
      ]
    },
    {
      "cell_type": "markdown",
      "metadata": {},
      "source": [
        "Create an Image for a stack of 3 100x100 images.\n\n"
      ]
    },
    {
      "cell_type": "code",
      "execution_count": null,
      "metadata": {
        "collapsed": false
      },
      "outputs": [],
      "source": [
        "img_data = np.random.random((3, 100, 100))\nimg = Image(img_data)"
      ]
    },
    {
      "cell_type": "markdown",
      "metadata": {},
      "source": [
        "Most often, Images will behave like Numpy arrays, but you\nexplicitly access the underlying Numpy array via ``asnumpy()``.\n\n"
      ]
    },
    {
      "cell_type": "code",
      "execution_count": null,
      "metadata": {
        "collapsed": false
      },
      "outputs": [],
      "source": [
        "img.asnumpy()"
      ]
    },
    {
      "cell_type": "markdown",
      "metadata": {},
      "source": [
        "Images have a built in ``show()`` method, which works well for\npeeking at data.\n\n"
      ]
    },
    {
      "cell_type": "code",
      "execution_count": null,
      "metadata": {
        "collapsed": false
      },
      "outputs": [],
      "source": [
        "img.show()"
      ]
    },
    {
      "cell_type": "markdown",
      "metadata": {},
      "source": [
        "<div class=\"alert alert-info\"><h4>Note</h4><p>The user is responsible for using ``show`` responsibly.  Avoid\n    asking for large numbers of images that you would not normally\n    plot.  Ten or less is reasonable.</p></div>\n\n"
      ]
    },
    {
      "cell_type": "markdown",
      "metadata": {},
      "source": [
        "More examples using the Image class can be found in:\n\n- `sphx_glr_auto_tutorials_tutorials_image_class.py`\n- `sphx_glr_auto_tutorials_tutorials_basic_image_array.py`\n\n"
      ]
    },
    {
      "cell_type": "markdown",
      "metadata": {},
      "source": [
        "## ``Volume`` Class\n\nLike ``Image``, the [Volume](https://computationalcryoem.github.io/ASPIRE-Python/aspire.volume.html#aspire.volume.Volume)\nclass is a thin wrapper over Numpy arrays that provides specialized\nmethods for a stack containing one or more volumes (3D data).\n\n"
      ]
    },
    {
      "cell_type": "markdown",
      "metadata": {},
      "source": [
        "### Initialize Volume - ``load``\nA ``Volume`` may be instantiated with Numpy data similarly to\n``Image``.  Both ``Image`` and ``Volume`` provide ``save`` and\n``load`` methods which can be used to work with files.  For\n``Volumes`` ``.map`` and ``.mrc`` are currently supported.  For\n``.npy``, Numpy can be used.\n\nFor example, in the following note we demonstrate instantiating an ASPIRE Volume\ninstance using ``Volume.load()``:\n\n<div class=\"alert alert-info\"><h4>Note</h4><p>Instantiate an ASPIRE Volume from file::\n\n       from aspire.volume import Volume\n\n       aspire_volume = Volume.load(\"/path/to/volume.mrc\")</p></div>\n\n"
      ]
    },
    {
      "cell_type": "markdown",
      "metadata": {},
      "source": [
        "In addition to the ``Volume.load()`` method, a few common\nstarting datasets can be downloaded from EMDB using ASPIRE's downloading\nutility. Below we download the high resolution volume map EMDB-2660, sourced from\n[](https://www.ebi.ac.uk/pdbe/entry/emdb/EMD-2660).\n\n"
      ]
    },
    {
      "cell_type": "code",
      "execution_count": null,
      "metadata": {
        "collapsed": false
      },
      "outputs": [],
      "source": [
        "from aspire.downloader import emdb_2660\n\nvol = emdb_2660()"
      ]
    },
    {
      "cell_type": "markdown",
      "metadata": {},
      "source": [
        "### Downsample Volume\nHere we downsample the above volume to a desired image size (64\nshould be good).\n\n"
      ]
    },
    {
      "cell_type": "code",
      "execution_count": null,
      "metadata": {
        "collapsed": false
      },
      "outputs": [],
      "source": [
        "img_size = 64\n\n# Volume.downsample() returns a new Volume instance.\n#   We will use this lower resolution volume later, calling it `v2`.\nvol_ds = vol.downsample(img_size)\n# L is often used as short hand for image and volume sizes (in pixels/voxels).\nL = vol_ds.resolution"
      ]
    },
    {
      "cell_type": "markdown",
      "metadata": {},
      "source": [
        "#### Plot Data\nFor quick sanity checking purposes we can view some plots.\n  We'll use three orthographic projections, one per axis.\n\n"
      ]
    },
    {
      "cell_type": "code",
      "execution_count": null,
      "metadata": {
        "collapsed": false
      },
      "outputs": [],
      "source": [
        "orthographic_projections = np.empty((3, L, L), dtype=vol_ds.dtype)\nfor i in range(3):\n    orthographic_projections[i] = np.sum(vol_ds, axis=(0, i + 1))\nImage(orthographic_projections).show()"
      ]
    },
    {
      "cell_type": "markdown",
      "metadata": {},
      "source": [
        "## ``Rotation`` Class\nWhile you may bring your own 3x3 matrices or generate manually (say\nfrom your own Euler angles), ASPIRE has a [Rotation class](https://computationalcryoem.github.io/ASPIRE-Python/aspire.utils.html#module-aspire.utils.rotation)\nwhich can do this random rotation generation for us.  It also has\nsome other utility methods, including support for Rodrigues\nrotations (ie, axis-angle).  Other ASPIRE components dealing with 3D\nrotations will generally expect instances of ``Rotation``.\n\nA common task in computational cryo-EM is generating random\nprojections, by applying random 3D rotations to a volume and projecting along the z-axis.\nThe following code will generate some random rotations,\nand use the ``Volume.project()`` method to return an ``Image``\ninstance representing the stack of projections.  We can display\nprojection images using the ``Image.show()`` method.\n\n"
      ]
    },
    {
      "cell_type": "code",
      "execution_count": null,
      "metadata": {
        "collapsed": false
      },
      "outputs": [],
      "source": [
        "from aspire.utils import Rotation\n\nnum_rotations = 2\nrots = Rotation.generate_random_rotations(n=num_rotations, seed=12345)"
      ]
    },
    {
      "cell_type": "markdown",
      "metadata": {},
      "source": [
        "We can access the Numpy array holding the actual stack of 3x3 matrices:\n\n"
      ]
    },
    {
      "cell_type": "code",
      "execution_count": null,
      "metadata": {
        "collapsed": false
      },
      "outputs": [],
      "source": [
        "print(rots)\nprint(rots.matrices)"
      ]
    },
    {
      "cell_type": "markdown",
      "metadata": {},
      "source": [
        "Using the ``Volume.project()`` method we compute\nprojections using the stack of rotations:\n\n"
      ]
    },
    {
      "cell_type": "code",
      "execution_count": null,
      "metadata": {
        "collapsed": false
      },
      "outputs": [],
      "source": [
        "projections = vol.project(rots)\nprint(projections)"
      ]
    },
    {
      "cell_type": "markdown",
      "metadata": {},
      "source": [
        "``project()`` returns an Image instance, so we can call ``show``.\n\n"
      ]
    },
    {
      "cell_type": "code",
      "execution_count": null,
      "metadata": {
        "collapsed": false
      },
      "outputs": [],
      "source": [
        "projections.show()"
      ]
    },
    {
      "cell_type": "markdown",
      "metadata": {},
      "source": [
        "Neat, we've generated random projections of some real data.  This\ntutorial will go on to show how this can be performed systematically with\nother cryo-EM data simulation tasks.\n\n"
      ]
    },
    {
      "cell_type": "markdown",
      "metadata": {},
      "source": [
        "## The ``filter`` Package\n[Filters](https://computationalcryoem.github.io/ASPIRE-Python/aspire.operators.html#module-aspire.operators.filters)\nare a collection of classes which once configured can be applied to\n``Images``, typically in an ``ImageSource`` pipeline which will be\ndiscussed in a later section.  Specifically, applying a ``Filter``\nconvolves the filter with the images contained in the ``Image``\ninstance.\n\n"
      ]
    },
    {
      "cell_type": "markdown",
      "metadata": {},
      "source": [
        ".. mermaid::\n\n  classDiagram\n      class Filter{\n          +evaluate()\n          +basis_mat()\n          +scale()\n          +evaluate_grid()\n          +dual()\n          +sign()\n       }\n\n       Filter o-- FunctionFilter\n       Filter o-- ArrayFilter\n       Filter o-- ScalarFilter\n       Filter o-- ZeroFilter\n       Filter o-- IdentityFilter\n       Filter o-- CTFFilter\n       CTFFilter o-- RadialCTFFilter\n\n"
      ]
    },
    {
      "cell_type": "markdown",
      "metadata": {},
      "source": [
        "``CTFFilter`` and ``RadialCTFFilter`` are the most common filters\nencountered when starting out and are detailed in\n`sphx_glr_auto_tutorials_tutorials_ctf.py`.  The other filters\nare used behind the scenes in components like ``NoiseAdders`` or\nmore advanced customized pipelines.  Several filters for internal or\nadvanced use cases are omitted from the diagram, but can be found in\nthe `aspire.operators.filter` module.\n\n"
      ]
    },
    {
      "cell_type": "markdown",
      "metadata": {},
      "source": [
        "## ``Basis``\nASPIRE provides a selection of ``Basis`` classes designed for\nworking with cryo-EM data in two and three dimensions.  Most of\nthese basis implementations are optimized for efficient rotations,\noften called the *\"steerable\"* property.  As of this writing most\nalgorithms in ASPIRE are written to work well with the fast\nFourier-Bessel (FFB) basis classes ``FFBBasis2D`` and\n``FFBBasis3D``.  These correspond to direct slower reference\n``FBBasis2D`` and ``FBBasis3D`` classes.\n\nRecently, a related Fourier-Bessel method using fast Laplacian\neigenfunction (FLE) transforms was integrated as ``FLEBasis2D``.\nAdditional prolate spheroidal wave function (PSWF) methods are\navailable via ``FPSWFBasis2D`` and ``FPSWFBasis3D``, but their\nintegration into other components like 2D covariance analysis is\nincomplete, and slated for a future release.\n\n"
      ]
    },
    {
      "cell_type": "markdown",
      "metadata": {},
      "source": [
        "## The ``source`` Package\n\nThe [aspire.source](https://computationalcryoem.github.io/ASPIRE-Python/aspire.source.html#module-aspire.source.simulation)\npackage contains a collection of data source interfaces.\nOstensibly, a ``Source`` is a producer of some primitive type, most\nnotably ``Image``.  ASPIRE components that consume (process) images\nare designed to accept an ``ImageSource``.\n\nThe first reason for this is to normalize the way a wide variety of\nhigher-level components interface.  ``ImageSource`` instances have a\nconsistent property ``images`` which must be implemented to serve up\nimages dynamically using a square-bracket ``[]`` syntax familiar to\nNumpy users. This supports batch computation among other things.\n``Source`` instances also store and serve up metadata like\n`rotations`, `dtype`, and support pipelining transformations.\n\nThe second reason is so we can design an experiment using a\nsynthetic ``Simulation`` source or our own provided Numpy arrays via\n``ArrayImageSource`` and then later swap out the source for a large\nexperimental data set using something like ``RelionSource``.\nExperimental datasets can be too large to practically fit or process\nentirely in memory, and force the use of iteratively-batched\napproaches.\n\nGenerally, the ``source`` package attempts to make most of this\nopaque to an end user.  Ideally we can simply swap one source for\nanother.  For now we will build up to the creation and application\nof synthetic data set based on the various manual interactions\nabove.\n\n"
      ]
    },
    {
      "cell_type": "markdown",
      "metadata": {},
      "source": [
        ".. mermaid::\n\n  classDiagram\n      class ImageSource{\n          +L\n          +n\n          +dtype\n          ...\n          +images[]\n          +cache()\n          +downsample()\n          +whiten()\n          +phase_flip()\n          +invert_conrast()\n          +normalize_background()\n          +save()\n          +save_images()\n          ...\n          }\n      ImageSource o-- ArrayImageSource\n      ImageSource o-- Simulation\n      ImageSource o-- RelionSource\n      ImageSource o-- CoordinateSource\n      CoordinateSource o-- BoxesCoordinateSource\n      CoordinateSource o-- CentersCoordinateSource\n\n"
      ]
    },
    {
      "cell_type": "markdown",
      "metadata": {},
      "source": [
        "### ``Simulation`` Class\nGenerating realistic synthetic data sources is a common task.  The\nprocess of generating then projecting random rotations is integrated\ninto the [Simulation](https://computationalcryoem.github.io/ASPIRE-Python/aspire.source.html#module-aspire.source.simulation)\nclass.  Using ``Simulation``, we can generate arbitrary numbers of\nprojections for use in experiments.  Then additional features are\nintroduced which allow us to create more realistic data sources.\n\n"
      ]
    },
    {
      "cell_type": "code",
      "execution_count": null,
      "metadata": {
        "collapsed": false
      },
      "outputs": [],
      "source": [
        "from aspire.source import Simulation\n\n# Total images in our source.\nnum_imgs = 100"
      ]
    },
    {
      "cell_type": "markdown",
      "metadata": {},
      "source": [
        "Generate a Simulation instance based on the original volume data.\n\n"
      ]
    },
    {
      "cell_type": "code",
      "execution_count": null,
      "metadata": {
        "collapsed": false
      },
      "outputs": [],
      "source": [
        "sim = Simulation(n=num_imgs, vols=vol)\n# Display the first 10 images\nsim.images[:10].show()  # Hi Res"
      ]
    },
    {
      "cell_type": "markdown",
      "metadata": {},
      "source": [
        "Repeat for the lower resolution (downsampled) volume vol_ds.\n\n"
      ]
    },
    {
      "cell_type": "code",
      "execution_count": null,
      "metadata": {
        "collapsed": false
      },
      "outputs": [],
      "source": [
        "sim = Simulation(n=num_imgs, vols=vol_ds)\nsim.images[:10].show()  # Lo Res"
      ]
    },
    {
      "cell_type": "markdown",
      "metadata": {},
      "source": [
        "Note both of those simulations have the same rotations because they\nhad the same seed by default, We recreate ``sim`` with a distinct\nseed to get different random samples (of rotations).\n\n"
      ]
    },
    {
      "cell_type": "code",
      "execution_count": null,
      "metadata": {
        "collapsed": false
      },
      "outputs": [],
      "source": [
        "sim = Simulation(n=num_imgs, vols=vol_ds, seed=42)\nsim.images[:10].show()"
      ]
    },
    {
      "cell_type": "markdown",
      "metadata": {},
      "source": [
        "We can also view the rotations used to create these projections.\n\n"
      ]
    },
    {
      "cell_type": "code",
      "execution_count": null,
      "metadata": {
        "collapsed": false
      },
      "outputs": [],
      "source": [
        "print(sim.rotations)"
      ]
    },
    {
      "cell_type": "markdown",
      "metadata": {},
      "source": [
        "Given any ``Source``, we can also take slices using typical slicing\nsyntax, or provide our own iterable of indices.\n\n"
      ]
    },
    {
      "cell_type": "code",
      "execution_count": null,
      "metadata": {
        "collapsed": false
      },
      "outputs": [],
      "source": [
        "sim_evens = sim[0::2]\nsim_odds = sim[1::2]\n\n# We can also generate random selections.\n# Shuffle indices then take the first 5.\nshuffled_inds = np.random.choice(sim.n, 5, replace=False)\nsim_shuffled_subset = sim[shuffled_inds]"
      ]
    },
    {
      "cell_type": "markdown",
      "metadata": {},
      "source": [
        "Underneath those slices, ASPIRE relies on ``IndexedSource``, which\nwe can also call direcly to remap indices.\n\n"
      ]
    },
    {
      "cell_type": "code",
      "execution_count": null,
      "metadata": {
        "collapsed": false
      },
      "outputs": [],
      "source": [
        "from aspire.source import IndexedSource\n\nsim_shuffled_subset = IndexedSource(sim, shuffled_inds)"
      ]
    },
    {
      "cell_type": "markdown",
      "metadata": {},
      "source": [
        "## The ``noise`` Package\nThe [aspire.noise](https://computationalcryoem.github.io/ASPIRE-Python/aspire.noise.html)\npackage contains several useful classes for generating and\nestimating different types of noise.\n\n"
      ]
    },
    {
      "cell_type": "markdown",
      "metadata": {},
      "source": [
        "### ``NoiseAdder``\n``NoiseAdder`` subclasses are used to add common or customized noise\nto ``Simulation`` image generation pipelines.\n\n"
      ]
    },
    {
      "cell_type": "markdown",
      "metadata": {},
      "source": [
        "#### ``WhiteNoiseAdder``\n``WhiteNoiseAdder`` is the most common type of synthetic noise.\n\n"
      ]
    },
    {
      "cell_type": "code",
      "execution_count": null,
      "metadata": {
        "collapsed": false
      },
      "outputs": [],
      "source": [
        "from aspire.noise import WhiteNoiseAdder"
      ]
    },
    {
      "cell_type": "markdown",
      "metadata": {},
      "source": [
        "Get the sample variance, then create a NoiseAdder based on that variance.\n\n"
      ]
    },
    {
      "cell_type": "code",
      "execution_count": null,
      "metadata": {
        "collapsed": false
      },
      "outputs": [],
      "source": [
        "var = np.var(sim.images[:].asnumpy())\nprint(f\"Sample Variance: {var}\")\ntarget_noise_variance = 10.0 * var\nprint(f\"Target Noise Variance: {target_noise_variance}\")\nwhite_noise_adder = WhiteNoiseAdder(target_noise_variance)"
      ]
    },
    {
      "cell_type": "markdown",
      "metadata": {},
      "source": [
        "We can customize Sources by adding stages to their generation\npipeline.  In this case of a Simulation source, we want to corrupt\nthe projection images with noise.  Internally the\n``WhiteNoiseAdder`` creates a ``ScalarFilter`` which is multiplied\n(convolution) by a Gaussian random sample.  Similar to before, if\nyou require a different sample, this can be controlled via a\n``seed``.\n\n"
      ]
    },
    {
      "cell_type": "code",
      "execution_count": null,
      "metadata": {
        "collapsed": false
      },
      "outputs": [],
      "source": [
        "# Creating the new simulation with this additional noise is easy:\nsim = Simulation(n=num_imgs, vols=vol_ds, noise_adder=white_noise_adder)\n# These should be rather noisy now ...\nsim.images[:10].show()"
      ]
    },
    {
      "cell_type": "markdown",
      "metadata": {},
      "source": [
        "#### ``WhiteNoiseEstimator``\nWe can estimate the noise across an ``ImageSource``, and\nwe've generated a simulation with known noise variance.\nLets see how the estimate compares.\n\nIn this case, we know the noise to be white, so we can proceed directly to\n[WhiteNoiseEstimator](https://computationalcryoem.github.io/ASPIRE-Python/aspire.noise.html#aspire.noise.noise.WhiteNoiseEstimator).\nThe noise estimators consume from an ``ImageSource``.\n\nThe white noise estimator should log a diagnostic variance value.\nInternally, it also uses the estimation results to build a\n``Filter`` which can be used in more advanced denoising methods.\n\n"
      ]
    },
    {
      "cell_type": "code",
      "execution_count": null,
      "metadata": {
        "collapsed": false
      },
      "outputs": [],
      "source": [
        "from aspire.noise import WhiteNoiseEstimator\n\nnoise_estimator = WhiteNoiseEstimator(sim)\nnoise_estimator.estimate()"
      ]
    },
    {
      "cell_type": "markdown",
      "metadata": {},
      "source": [
        "### A Custom ``FunctionFilter``\n\nWe will now apply some more interesting noise, using a custom\nfunction, and then apply a ``whitening`` process to our data.\n\nUsing ``FunctionFilter`` we can create our own custom functions to\napply in a pipeline.  Here we want to apply a custom noise function.\nWe will use a function of two variables for this example.\n\n"
      ]
    },
    {
      "cell_type": "code",
      "execution_count": null,
      "metadata": {
        "collapsed": false
      },
      "outputs": [],
      "source": [
        "from aspire.noise import CustomNoiseAdder\nfrom aspire.operators import FunctionFilter\n\n\ndef noise_function(x, y):\n    return 1e-7 * np.exp(-(x * x + y * y) / (2 * 0.3**2))\n\n\n# In Python, functions are first class objects.  We take advantage of\n# that to pass this function around as a variable.  The function is\n# evaluated later, internally, during pipeline execution.\ncustom_noise = CustomNoiseAdder(noise_filter=FunctionFilter(noise_function))\n\n# Create yet another Simulation source to tinker with.\nsim = Simulation(n=num_imgs, vols=vol_ds, noise_adder=custom_noise)\nsim.images[:10].show()"
      ]
    },
    {
      "cell_type": "markdown",
      "metadata": {},
      "source": [
        "### Noise Whitening\nWe will now combine a more advanced noise estimation technique with\nan ``ImageSource`` preprocessing method ``whiten``.\n\nFirst an anisotropic noise estimate is performed.\n\n"
      ]
    },
    {
      "cell_type": "code",
      "execution_count": null,
      "metadata": {
        "collapsed": false
      },
      "outputs": [],
      "source": [
        "from aspire.noise import AnisotropicNoiseEstimator\n\n# Estimate noise.\naiso_noise_estimator = AnisotropicNoiseEstimator(sim)"
      ]
    },
    {
      "cell_type": "markdown",
      "metadata": {},
      "source": [
        "Applying the ``Simulation.whiten()`` method requires passing a\ncorresponding ``NoiseEstimator`` instance.  Then we can inspect some\nof the whitened images.  While noise is still present, we can see a\ndramatic change.\n\n"
      ]
    },
    {
      "cell_type": "code",
      "execution_count": null,
      "metadata": {
        "collapsed": false
      },
      "outputs": [],
      "source": [
        "# Whiten based on the estimated noise.\nsim = sim.whiten(aiso_noise_estimator)"
      ]
    },
    {
      "cell_type": "markdown",
      "metadata": {},
      "source": [
        "What do the whitened images look like?\n\n"
      ]
    },
    {
      "cell_type": "code",
      "execution_count": null,
      "metadata": {
        "collapsed": false
      },
      "outputs": [],
      "source": [
        "sim.images[:10].show()"
      ]
    },
    {
      "cell_type": "markdown",
      "metadata": {},
      "source": [
        "## Common Image Corruptions\n``Simulation`` provides several configurable types of common cryo-EM\nimage corruptions.  Users should be aware that amplitude and offset\ncorruption is enabled by default.\n\n"
      ]
    },
    {
      "cell_type": "markdown",
      "metadata": {},
      "source": [
        "### Amplitudes\nSimulation automatically generates random amplitude variability.\nTo disable, set to ``amplitudes=1``.\n\n"
      ]
    },
    {
      "cell_type": "markdown",
      "metadata": {},
      "source": [
        "### Offsets\nSimulation automatically generates random offsets.\nTo disable, set to ``offsets=0``.\n\n"
      ]
    },
    {
      "cell_type": "markdown",
      "metadata": {},
      "source": [
        "### Noise\nBy default, no noise corruption is configured.\nTo enable, see ``NoiseAdder`` components.\n\n"
      ]
    },
    {
      "cell_type": "markdown",
      "metadata": {},
      "source": [
        "### CTF\nBy default, no CTF corruption is configured.\nTo enable, we must configure one or more ``CTFFilter`` instances.\nUsually we will create a range of filters for a variety of\ndefocus levels.\n\n"
      ]
    },
    {
      "cell_type": "code",
      "execution_count": null,
      "metadata": {
        "collapsed": false
      },
      "outputs": [],
      "source": [
        "from aspire.operators import RadialCTFFilter\n\n# Radial CTF Filter params.\ndefocus_min = 15000  # unit is angstroms\ndefocus_max = 25000\ndefocus_ct = 7\n\n# Generate several CTFs.\nctf_filters = [\n    RadialCTFFilter(pixel_size=vol_ds.pixel_size, defocus=d)\n    for d in np.linspace(defocus_min, defocus_max, defocus_ct)\n]"
      ]
    },
    {
      "cell_type": "markdown",
      "metadata": {},
      "source": [
        "### Combining into a Simulation\nHere we'll combine the parameters above into a new simulation.\n\n"
      ]
    },
    {
      "cell_type": "code",
      "execution_count": null,
      "metadata": {
        "collapsed": false
      },
      "outputs": [],
      "source": [
        "sim = Simulation(\n    n=num_imgs,\n    vols=vol_ds,\n    amplitudes=1,\n    offsets=0,\n    noise_adder=white_noise_adder,\n    unique_filters=ctf_filters,\n    seed=42,\n)\n\n# Simulation has two unique accessors ``clean_images`` which disables\n# noise, and ``projections`` which are clean uncorrupted projections.\n# Both act like calls to `image` and return show-able ``Image``\n# instances."
      ]
    },
    {
      "cell_type": "markdown",
      "metadata": {},
      "source": [
        "Clean projections.\n\n"
      ]
    },
    {
      "cell_type": "code",
      "execution_count": null,
      "metadata": {
        "collapsed": false
      },
      "outputs": [],
      "source": [
        "sim.projections[:3].show()"
      ]
    },
    {
      "cell_type": "markdown",
      "metadata": {},
      "source": [
        "Images with only CTF applied.\n\n"
      ]
    },
    {
      "cell_type": "code",
      "execution_count": null,
      "metadata": {
        "collapsed": false
      },
      "outputs": [],
      "source": [
        "sim.clean_images[:3].show()"
      ]
    },
    {
      "cell_type": "markdown",
      "metadata": {},
      "source": [
        "And now the first four corrupted images.\n\n"
      ]
    },
    {
      "cell_type": "code",
      "execution_count": null,
      "metadata": {
        "collapsed": false
      },
      "outputs": [],
      "source": [
        "sim.images[:4].show(columns=2, colorbar=False)"
      ]
    },
    {
      "cell_type": "markdown",
      "metadata": {},
      "source": [
        "<div class=\"alert alert-info\"><h4>Note</h4><p>Above the ``show`` call has been customized as a 2 column grid\n    with out colorbar legend.</p></div>\n\n"
      ]
    },
    {
      "cell_type": "markdown",
      "metadata": {},
      "source": [
        "## Real Experimental Data - ``RelionSource``\n\nNow that we have some basics, we can try to replace the simulation\nwith a real experimental data source.\n\n"
      ]
    },
    {
      "cell_type": "code",
      "execution_count": null,
      "metadata": {
        "collapsed": false
      },
      "outputs": [],
      "source": [
        "from aspire.source import RelionSource\n\nsrc = RelionSource(\n    \"data/sample_relion_data.star\",\n    data_folder=\"\",\n    pixel_size=5.0,\n    max_rows=1024,\n)"
      ]
    },
    {
      "cell_type": "markdown",
      "metadata": {},
      "source": [
        "Add downsampling to the ``src`` pipeline.\n\n"
      ]
    },
    {
      "cell_type": "code",
      "execution_count": null,
      "metadata": {
        "collapsed": false
      },
      "outputs": [],
      "source": [
        "src = src.downsample(img_size)"
      ]
    },
    {
      "cell_type": "markdown",
      "metadata": {},
      "source": [
        "``RelionSource`` will auto-populate ``CTFFilter`` instances from the\nSTAR file metadata when available. Having these filters allows us to\nperform a phase flipping correction.\n\n"
      ]
    },
    {
      "cell_type": "code",
      "execution_count": null,
      "metadata": {
        "collapsed": false
      },
      "outputs": [],
      "source": [
        "src = src.phase_flip()"
      ]
    },
    {
      "cell_type": "markdown",
      "metadata": {},
      "source": [
        "Display the experimental data images.\n\n"
      ]
    },
    {
      "cell_type": "code",
      "execution_count": null,
      "metadata": {
        "collapsed": false
      },
      "outputs": [],
      "source": [
        "src.images[:10].show()"
      ]
    },
    {
      "cell_type": "markdown",
      "metadata": {},
      "source": [
        "## Pipeline Roadmap\nNow that the primitives have been introduced we can explore\nhigher-level components.  The higher-level components are designed\nto be modular and cacheable (to memory or disk) to support\nexperimentation with entire pipelines or focused algorithmic\ndevelopment on specific components.  Most pipelines will follow a\nflow of data and components moving mostly left to right in the table\nbelow.  This table is not exhaustive, but represents some of the\nmost common components.\n\n"
      ]
    },
    {
      "cell_type": "markdown",
      "metadata": {},
      "source": [
        "+----------------+--------------------+-----------------+----------------+---------------------+\n|  Image Processing                                     | Ab initio                            |\n+----------------+--------------------+-----------------+----------------+---------------------+\n| Data           | Preprocessing      | Denoising       | Orientation    |  3D Reconstruction  |\n+================+====================+=================+================+=====================+\n|Simulation      | NoiseEstimator     | Class Averaging | CLSyncVoting   | MeanVolumeEstimator |\n+----------------+--------------------+-----------------+----------------+---------------------+\n|RelionSource    | downsample         | cov2d (CWF)     | CLSymmetryC2   |                     |\n+----------------+--------------------+-----------------+----------------+---------------------+\n|CoordinateSource| whiten             |                 | CLSymmetryC3C4 |                     |\n+----------------+--------------------+-----------------+----------------+---------------------+\n|                | phase_flip         |                 | CLSymmetryCn   |                     |\n+----------------+--------------------+-----------------+----------------+---------------------+\n|                |normalize_background|                 | CommonlineSDP  |                     |\n+----------------+--------------------+-----------------+----------------+---------------------+\n|                | CTFEstimator       |                 |                |                     |\n+----------------+--------------------+-----------------+----------------+---------------------+\n\n"
      ]
    },
    {
      "cell_type": "markdown",
      "metadata": {},
      "source": [
        "We're now ready to explore a small example end-to-end ab initio\npipeline using simulated data.\n`sphx_glr_auto_tutorials_pipeline_demo.py`\n\n"
      ]
    },
    {
      "cell_type": "markdown",
      "metadata": {},
      "source": [
        "Larger simulations and experiments based on EMPIAR data can be found\nin `Experiments <exp>`.\n\n"
      ]
    }
  ],
  "metadata": {
    "kernelspec": {
      "display_name": "Python 3",
      "language": "python",
      "name": "python3"
    },
    "language_info": {
      "codemirror_mode": {
        "name": "ipython",
        "version": 3
      },
      "file_extension": ".py",
      "mimetype": "text/x-python",
      "name": "python",
      "nbconvert_exporter": "python",
      "pygments_lexer": "ipython3",
      "version": "3.9.23"
    }
  },
  "nbformat": 4,
  "nbformat_minor": 0
}