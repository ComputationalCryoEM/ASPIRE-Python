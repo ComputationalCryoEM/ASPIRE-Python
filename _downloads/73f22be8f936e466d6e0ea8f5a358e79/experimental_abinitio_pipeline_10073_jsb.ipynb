{
  "cells": [
    {
      "cell_type": "markdown",
      "metadata": {},
      "source": [
        "\n# Abinitio Pipeline - Experimental Data EMPIAR 10073\n\nThis notebook introduces a selection of\ncomponents corresponding to loading real Relion picked\nparticle cryo-EM data and running key ASPIRE-Python\nab initio model components as a pipeline.\n\nThis demonstrates reproducing results similar to those found in:\n\n.. admonition:: Publication\n\n   | Common lines modeling for reference free Ab-initio reconstruction in cryo-EM\n   | Journal of Structural Biology 2017\n   | https://doi.org/10.1016/j.jsb.2017.09.007\n\nSpecifically this pipeline uses the\nEMPIAR 10073 picked particles data, available here:\n\nhttps://www.ebi.ac.uk/empiar/EMPIAR-10073\n"
      ]
    },
    {
      "cell_type": "markdown",
      "metadata": {},
      "source": [
        "## Imports\nImport packages that will be used throughout this experiment.\n\n"
      ]
    },
    {
      "cell_type": "code",
      "execution_count": null,
      "metadata": {
        "collapsed": false
      },
      "outputs": [],
      "source": [
        "import logging\nfrom pathlib import Path\n\nimport numpy as np\n\nfrom aspire.abinitio import CLSync3N\nfrom aspire.denoising import LegacyClassAvgSource\nfrom aspire.reconstruction import MeanEstimator\nfrom aspire.source import ArrayImageSource, OrientedSource, RelionSource\nfrom aspire.utils import fuzzy_mask\n\nlogger = logging.getLogger(__name__)"
      ]
    },
    {
      "cell_type": "markdown",
      "metadata": {},
      "source": [
        "## Parameters\n\nUse of GPU is expected for a large configuration.\nIf running on a less capable machine, or simply experimenting, it is\nstrongly recommended to reduce ``img_size``, ``n_imgs``, and\n``n_nbor``.\n\n"
      ]
    },
    {
      "cell_type": "code",
      "execution_count": null,
      "metadata": {
        "collapsed": false
      },
      "outputs": [],
      "source": [
        "# Inputs\nstarfile_in = \"10073/data/shiny_correctpaths_cleanedcorruptstacks.star\"\ndata_folder = \".\"  # This depends on the specific starfile entries.\npixel_size = 1.43  # Defined with the dataset from EMPIAR\n\n# Config\nn_imgs = None  # Set to None for all images in starfile, can set smaller for tests.\nimg_size = 129  # Downsample the images/reconstruction to a desired resolution\nn_classes = 3000  # How many class averages to compute.\nn_nbor = 50  # How many neighbors to stack\n\n# Outputs\npreprocessed_fn = f\"10073_preprocessed_{img_size}px.star\"\nclass_avg_fn = f\"10073_var_sorted_cls_avgs_m{n_nbor}_{img_size}px.star\"\noriented_fn = f\"10073_oriented_class_averages_{img_size}px.star\"\nvolume_output_filename = f\"10073_abinitio_c{n_classes}_m{n_nbor}_{img_size}px.mrc\""
      ]
    },
    {
      "cell_type": "markdown",
      "metadata": {},
      "source": [
        "## Source data and Preprocessing\n\n``RelionSource`` is used to access the experimental data via a `STAR` file.\n\n"
      ]
    },
    {
      "cell_type": "code",
      "execution_count": null,
      "metadata": {
        "collapsed": false
      },
      "outputs": [],
      "source": [
        "# Create a source object for the experimental images.\nsrc = RelionSource(\n    starfile_in, pixel_size=pixel_size, max_rows=n_imgs, data_folder=data_folder\n)\n\n# Use ``phase_flip`` to attempt correcting for CTF.\nlogger.info(\"Perform phase flip to input images.\")\nsrc = src.phase_flip().cache()\n\n# Downsample the images.\nlogger.info(f\"Set the resolution to {img_size} X {img_size}\")\nsrc = src.downsample(img_size).cache()\n\n# Normalize the background of the images.\nsrc = src.normalize_background().cache()\n\n# Estimate the noise and whiten based on the estimated noise.\nsrc = src.legacy_whiten().cache()\n\n# Optionally invert image contrast.\nlogger.info(\"Invert the global density contrast\")\nsrc = src.invert_contrast().cache()\n\n# Save the preprocessed image stack.\nsrc.save(preprocessed_fn, save_mode=\"single\", overwrite=True)"
      ]
    },
    {
      "cell_type": "markdown",
      "metadata": {},
      "source": [
        "## Class Averaging\n\nNow perform classification and averaging for each class.\n\n"
      ]
    },
    {
      "cell_type": "code",
      "execution_count": null,
      "metadata": {
        "collapsed": false
      },
      "outputs": [],
      "source": [
        "logger.info(\"Begin Class Averaging\")\n\navgs = LegacyClassAvgSource(src, n_nbor=n_nbor).cache()\n\n# Save the entire set of class averages to disk so they can be reused.\navgs.save(class_avg_fn, save_mode=\"single\", overwrite=True)\n\n# We'll continue our pipeline by selecting ``n_classes`` from ``avgs``.\n# To capture a broader range of viewing angles, uniformly select every ``k`` image.\nk = (avgs.n - 1) // n_classes\navgs = avgs[::k].cache()"
      ]
    },
    {
      "cell_type": "markdown",
      "metadata": {},
      "source": [
        "## Common Line Estimation\n\nEstimate orientation of projections and assign to source by\napplying ``OrientedSource`` to the class averages from the prior\nstep. By default this applies the Common Line with Synchronization\nVoting ``CLSync3N`` method.  Here additional weighting techniques\nare applied for common lines detection by customizing the\norientation estimator component.\n\n"
      ]
    },
    {
      "cell_type": "code",
      "execution_count": null,
      "metadata": {
        "collapsed": false
      },
      "outputs": [],
      "source": [
        "logger.info(\"Apply custom mask\")\n# 10073 benefits from a masking procedure that is more aggressive than the default.\n# Note, since we've manually masked, the default masking is disabled below in `CLSync3N`.\n# This also upcasts to double precision, which is helpful for this reconstruction.\nmask = fuzzy_mask((img_size, img_size), np.float64, r0=0.4 * img_size, risetime=2)\navgs = ArrayImageSource(avgs.images[:] * mask)\n\nlogger.info(\"Begin Orientation Estimation\")\n# Configure the `CLSync3N` algorithm,\n#  customized by enabling weighting and disabling default mask.\nori_est = CLSync3N(avgs, mask=False, S_weighting=True, J_weighting=True)\n# Handles calling code to find and assign orientations and shifts.\noriented_src = OrientedSource(avgs, ori_est)\n\n# Save off the set of class average images, along with the estimated orientations and shifts.\noriented_src.save(oriented_fn, save_mode=\"single\", overwrite=True)"
      ]
    },
    {
      "cell_type": "markdown",
      "metadata": {},
      "source": [
        "## Volume Reconstruction\n\nUsing the oriented source, attempt to reconstruct a volume.\n\n"
      ]
    },
    {
      "cell_type": "code",
      "execution_count": null,
      "metadata": {
        "collapsed": false
      },
      "outputs": [],
      "source": [
        "logger.info(\"Begin Volume reconstruction\")\n\n# Set up an estimator to perform the backprojection.\nestimator = MeanEstimator(oriented_src)\n\n# Perform the estimation and save the volume.\nestimated_volume = estimator.estimate()\nestimated_volume.save(volume_output_filename, overwrite=True)\nlogger.info(f\"Saved Volume to {str(Path(volume_output_filename).resolve())}\")"
      ]
    }
  ],
  "metadata": {
    "kernelspec": {
      "display_name": "Python 3",
      "language": "python",
      "name": "python3"
    },
    "language_info": {
      "codemirror_mode": {
        "name": "ipython",
        "version": 3
      },
      "file_extension": ".py",
      "mimetype": "text/x-python",
      "name": "python",
      "nbconvert_exporter": "python",
      "pygments_lexer": "ipython3",
      "version": "3.9.23"
    }
  },
  "nbformat": 4,
  "nbformat_minor": 0
}