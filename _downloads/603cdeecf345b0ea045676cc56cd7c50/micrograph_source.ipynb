{
  "cells": [
    {
      "cell_type": "markdown",
      "metadata": {},
      "source": [
        "\n# Micrograph Sources\n\nThis tutorial will demonstrate how to set up and use ASPIRE's\n``MicrographSource`` classes.\n"
      ]
    },
    {
      "cell_type": "code",
      "execution_count": null,
      "metadata": {
        "collapsed": false
      },
      "outputs": [],
      "source": [
        "import os\nimport tempfile\n\nimport numpy as np\n\nfrom aspire.source import ArrayMicrographSource"
      ]
    },
    {
      "cell_type": "markdown",
      "metadata": {},
      "source": [
        "## Overview\n``MicrographSource`` is an abstract class which provides access to\nthree distinct subclasses.  The first two are\n``ArrayMicrographSource`` and ``DiskMicrographSource`` which provide\naccess to array and disk backed micrograph data respectively.\n``MicrographSimulation`` takes a volume and generates projection\nimages which are aggregated into synthetic microgaphs.  The following\nillustrates an overview of the interfaces, and the tutorial will go\non to demonstrate common operations for each class.\n\n"
      ]
    },
    {
      "cell_type": "markdown",
      "metadata": {},
      "source": [
        ".. mermaid::\n\n  classDiagram\n      class MicrographSource{\n          micrograph_count: int\n          micrograph_size: int\n          dtype: np.dtype\n          +asnumpy()\n          +dtype\n          +len()\n          +repr()\n          +images[]\n          +micrograph_count\n          +micrograph_size\n          +save()\n          +show()\n       }\n\n      class ArrayMicrographSource{\n          micrographs: np.ndarray\n       }\n\n      class DiskMicrographSource{\n          micrographs_path: str, Path, or list\n       }\n\n      class MicrographSimulation{\n          volume: Volume\n          micrograph_size: Optional, int\n          micrograph_count: Optional, int\n          particles_per_micrograph: Optional, int\n          particle_amplitudes: Optional, np.ndarray\n          projection_angles: Optional, np.ndarray\n          seed: Optional, int\n          ctf_filters: Optional, list\n          noise_adder: Optional, NoiseAdder\n          boundary: Optional, int\n          interparticle_distance: Optional, int\n          +boundary\n          +centers\n          +ctf_filters\n          +clean_images[]\n          +filter_indices\n          +get_micrograph_index()\n          +get_particle_index()\n          +interparticle_distance\n          +noise_adder\n          +simulation\n          +particle_amplitudes\n          +particle_box_size\n          +particle_per_micrograph\n          +projection_angles\n          +total_particle_count\n          +volume\n       }\n\n       MicrographSource <|-- ArrayMicrographSource\n       MicrographSource <|-- DiskMicrographSource\n       MicrographSource <|-- MicrographSimulation\n       MicrographSimulation o-- Volume\n       MicrographSimulation *-- CTFFilter\n       MicrographSimulation *-- NoiseAdder\n\n"
      ]
    },
    {
      "cell_type": "markdown",
      "metadata": {},
      "source": [
        "## Creating an ArrayMicrographSource\nAn ``ArrayMicrographSource`` is populated with an array.  For this\ndemonstration, random data will initialize the object,\nthen this data will be saved off for use in the next example\n(which loads data from files).\n\n"
      ]
    },
    {
      "cell_type": "code",
      "execution_count": null,
      "metadata": {
        "collapsed": false
      },
      "outputs": [],
      "source": [
        "# Create an (2,512,512) array of data.\n# This represents two (512,512) micrographs.\nmgs_np = np.random.rand(2, 512, 512)\n\n# Construct the source\nsrc = ArrayMicrographSource(mgs_np)\n\n# Create a tmp dir for saving the data to.\n# This just for ensuring the tutorial script is portable,\ntmp_dir = tempfile.TemporaryDirectory()\n\n# Save the data as multiple MRC files\n# This method returns a file_list,\n# which might be useful for loading or other operations.\nfile_list = src.save(tmp_dir.name)"
      ]
    },
    {
      "cell_type": "markdown",
      "metadata": {},
      "source": [
        "## Creating a DiskMicrographSource\nA ``DiskMicrographSource`` is populated with str or list\nrepresenting the location of MRC files.\n\n"
      ]
    },
    {
      "cell_type": "code",
      "execution_count": null,
      "metadata": {
        "collapsed": false
      },
      "outputs": [],
      "source": [
        "from aspire.source import DiskMicrographSource\n\n# Load files in directory\nsrc = DiskMicrographSource(tmp_dir.name)\n\n# Load files from a list\nsrc = DiskMicrographSource(file_list)"
      ]
    },
    {
      "cell_type": "markdown",
      "metadata": {},
      "source": [
        "## Creating a Micrograph Simulation\nA ``MicrographSimulation`` is populated with particle projections\nfrom a ``Volume``, so we'll begin by generating a ``Volume``.\n\n"
      ]
    },
    {
      "cell_type": "code",
      "execution_count": null,
      "metadata": {
        "collapsed": false
      },
      "outputs": [],
      "source": [
        "from aspire.source import MicrographSimulation\nfrom aspire.volume import AsymmetricVolume\n\n# Generate one (100,100,100) ``Volume``.\nvol = AsymmetricVolume(\n    L=100,\n    C=1,\n    seed=1234,\n    dtype=np.float32,\n).generate()"
      ]
    },
    {
      "cell_type": "markdown",
      "metadata": {},
      "source": [
        "We'll pass our ``Volume`` as an argument and configure our\n``MicrographSimulation``.  In this example, the\n``MicrographSimulation`` has 4 micrographs of size 1024, each with 10\nparticles.\n\n"
      ]
    },
    {
      "cell_type": "code",
      "execution_count": null,
      "metadata": {
        "collapsed": false
      },
      "outputs": [],
      "source": [
        "n_particles_per_micrograph = 10\nn_micrographs = 3\n\nsrc = MicrographSimulation(\n    vol,\n    particles_per_micrograph=n_particles_per_micrograph,\n    particle_amplitudes=1,\n    micrograph_size=1024,\n    micrograph_count=n_micrographs,\n    seed=1234,\n)\n\n# Plot the micrographs\nsrc.images[:].show()"
      ]
    },
    {
      "cell_type": "markdown",
      "metadata": {},
      "source": [
        "## CTF Filters\nBy default, no CTF corruption is configured. To apply CTF filters,\nwe have to pass them as arguments to the ``MicrographSimulation``.\nIt is possible to apply a single CTF, different CTF per-micrograph\nor different CTF per-particle by configuring a list of matching size.\n\n"
      ]
    },
    {
      "cell_type": "code",
      "execution_count": null,
      "metadata": {
        "collapsed": false
      },
      "outputs": [],
      "source": [
        "from aspire.operators import RadialCTFFilter\n\n# Create our CTF Filter and add it to a list.\n# This configuration will apply the same CTF to all particles.\nctfs = [\n    RadialCTFFilter(pixel_size=4, voltage=200, defocus=15000, Cs=2.26, alpha=0.07, B=0),\n]\n\nsrc = MicrographSimulation(\n    vol,\n    particles_per_micrograph=n_particles_per_micrograph,\n    micrograph_size=1024,\n    micrograph_count=n_micrographs,\n    ctf_filters=ctfs,\n    seed=1234,\n)\n\n# Plot the micrographs\nsrc.images[:].show()"
      ]
    },
    {
      "cell_type": "markdown",
      "metadata": {},
      "source": [
        "## Noise\nBy default, no noise corruption is configured.\nTo apply noise, pass a ``NoiseAdder`` to ``MicrographSimulation``.\n\n"
      ]
    },
    {
      "cell_type": "code",
      "execution_count": null,
      "metadata": {
        "collapsed": false
      },
      "outputs": [],
      "source": [
        "from aspire.noise import WhiteNoiseAdder\n\n# Create our noise using WhiteNoiseAdder\nnoise = WhiteNoiseAdder(4e-3, seed=1234)\n\n# Add noise to our MicrographSimulation using the noise_adder argument\nsrc = MicrographSimulation(\n    vol,\n    noise_adder=noise,\n    particles_per_micrograph=n_particles_per_micrograph,\n    micrograph_size=1024,\n    micrograph_count=n_micrographs,\n    ctf_filters=ctfs,\n    seed=1234,\n)\n\n# Plot the micrographs\nsrc.images[:].show()"
      ]
    },
    {
      "cell_type": "markdown",
      "metadata": {},
      "source": [
        "Plot the clean micrographs using the ``clean_images`` accessor.\n\n"
      ]
    },
    {
      "cell_type": "code",
      "execution_count": null,
      "metadata": {
        "collapsed": false
      },
      "outputs": [],
      "source": [
        "src.clean_images[:].show()"
      ]
    },
    {
      "cell_type": "markdown",
      "metadata": {},
      "source": [
        "## Interparticle Distance\nBy default, particle distance is set to avoid collisions.\nWe can use the ``interparticle_distance`` argument to control the\nminimum distance between particle centers.\nHowever, setting this argument too large may generate insufficient centers.\n\n"
      ]
    },
    {
      "cell_type": "code",
      "execution_count": null,
      "metadata": {
        "collapsed": false
      },
      "outputs": [],
      "source": [
        "# Let's increase the number of particles to show overlap.\nn_particles_per_micrograph = 50\n\n# Set the interparticle distance to 1, which adds at least one pixel\n# of separation between center and allows particles to collide.\nsrc = MicrographSimulation(\n    vol,\n    interparticle_distance=1,\n    noise_adder=noise,\n    particles_per_micrograph=n_particles_per_micrograph,\n    micrograph_size=1024,\n    micrograph_count=n_micrographs,\n    ctf_filters=ctfs,\n)\n\n# Plot the micrographs\nsrc.images[:].show()"
      ]
    },
    {
      "cell_type": "markdown",
      "metadata": {},
      "source": [
        "## Boundary\nBy default, the boundary is set to half of the particle width,\nwhich will completely contain every particle inside the micrograph.\nSetting ``boundary=0`` will allow particles to be placed along the edges.\nPositive values (measured in pixels) move the boundaries inward,\nwhile negative values move the boundaries outward.\n\n"
      ]
    },
    {
      "cell_type": "code",
      "execution_count": null,
      "metadata": {
        "collapsed": false
      },
      "outputs": [],
      "source": [
        "# Create a micrograph with a negative boundary, allowing particles to\n# generate outward.\nout_src = MicrographSimulation(\n    vol,\n    boundary=-20,\n    interparticle_distance=1,\n    noise_adder=noise,\n    particles_per_micrograph=n_particles_per_micrograph,\n    micrograph_size=1024,\n    micrograph_count=n_micrographs,\n    ctf_filters=ctfs,\n)\n\n# Plot the micrographs\nout_src.images[:].show()"
      ]
    },
    {
      "cell_type": "markdown",
      "metadata": {},
      "source": [
        "## Particle Indices\nEach particle comes from a ``Simulation`` internal to\n``MicrographSimulation``.  This simulation can be accessed directly\nby the attribute ``MicrographSimulation.simulation``.  A map is\nprovided between each particle's indexing relative to that\n``Simulation`` and micrograph based indexing.  This relationship is\ndemonstrated below.\n\n"
      ]
    },
    {
      "cell_type": "code",
      "execution_count": null,
      "metadata": {
        "collapsed": false
      },
      "outputs": [],
      "source": [
        "# Let's choose four random numbers as our global (``Simulation``)\n# particle indices from ``test_micrograph=1``.\ntest_micrograph = 1\nn_particles = 3\nlocal_particle_indices = np.random.choice(n_particles_per_micrograph, n_particles)\nprint(f\"Local particle indices: {local_particle_indices}\")"
      ]
    },
    {
      "cell_type": "markdown",
      "metadata": {},
      "source": [
        "We can obtain the individual particle images from our\n``MicrographSimulation`` by retrieving their centers and plotting\nthe boundary boxes.\n\n"
      ]
    },
    {
      "cell_type": "code",
      "execution_count": null,
      "metadata": {
        "collapsed": false
      },
      "outputs": [],
      "source": [
        "centers = np.zeros((n_particles, 2), dtype=int)\nfor i in range(n_particles):\n    centers[i] = src.centers[test_micrograph][local_particle_indices[i]]\n\n# Let's use the particles' centers and sizes to perform \"perfect\n# particle picking\" on this test micrograph.\np_size = src.particle_box_size\nmicrograph_picked_particles = np.zeros(\n    (\n        n_particles,\n        src.particle_box_size,\n        src.particle_box_size,\n    )\n)\n\nfor i, center in enumerate(centers):\n    x, y = center[0], center[1]\n    # Calculate the square of the particle\n    particle = src.clean_images[test_micrograph].asnumpy()[0][\n        x - p_size // 2 : x + p_size // 2, y - p_size // 2 : y + p_size // 2\n    ]\n    micrograph_picked_particles[i] = particle\n\n# Let's plot and look at the particles!\nfrom aspire.image import Image\n\nImage(micrograph_picked_particles)[:].show()"
      ]
    },
    {
      "cell_type": "markdown",
      "metadata": {},
      "source": [
        "<div class=\"alert alert-info\"><h4>Note</h4><p>There may be overlap with nearby particles in the above images.\n    To reduce overlap, increase ``interparticle_distance``.</p></div>\n\n"
      ]
    },
    {
      "cell_type": "markdown",
      "metadata": {},
      "source": [
        "Let's find the images from the ``Simulation`` using the\n``get_particle_indices`` method to retrieve their global indices.\n\n"
      ]
    },
    {
      "cell_type": "code",
      "execution_count": null,
      "metadata": {
        "collapsed": false
      },
      "outputs": [],
      "source": [
        "global_particle_indices = np.zeros((n_particles), dtype=int)\nfor i in range(n_particles):\n    global_particle_indices[i] = src.get_particle_indices(\n        test_micrograph, local_particle_indices[i]\n    )\n\n# Plot the simulation's images\nsrc.simulation.images[global_particle_indices].show()"
      ]
    },
    {
      "cell_type": "markdown",
      "metadata": {},
      "source": [
        "We can check if these global indices match our local particle\nindices with the ``get_micrograph_index`` method.\n\n"
      ]
    },
    {
      "cell_type": "code",
      "execution_count": null,
      "metadata": {
        "collapsed": false
      },
      "outputs": [],
      "source": [
        "check_local_indices = np.zeros((n_particles), dtype=int)\nfor i in range(n_particles):\n    # Get each particle's corresponding micrograph index and local particle index\n    micrograph_index, check_local_indices[i] = src.get_micrograph_index(\n        global_particle_indices[i]\n    )\n    assert micrograph_index == 1\nnp.testing.assert_array_equal(local_particle_indices, check_local_indices)\nprint(f\"Local particle indices: {check_local_indices}\")"
      ]
    },
    {
      "cell_type": "markdown",
      "metadata": {},
      "source": [
        "## Saving a MicrographSimulation\nIn addition to saving the raw MRC files, ``MicrographSimulation``\npopulates STAR files with the particle centers, particle box size\n(``rlnImageSize``), and projection rotations.  Additionally, CTF\nparameters are saved when CTF is used in the simulation.  Each\nmicrograph will have a corresponidng STAR file.  The collection of\nthese files are returned from ``MicrographSimulation.save`` as a\nlist of tuples which is designed to work directly with\n``CentersCoordinateSource``.\n\n"
      ]
    },
    {
      "cell_type": "code",
      "execution_count": null,
      "metadata": {
        "collapsed": false
      },
      "outputs": [],
      "source": [
        "from aspire.source import CentersCoordinateSource\n\n# Save the simulation\nresults = src.save(os.path.join(tmp_dir.name, \"mg_sim\"))"
      ]
    },
    {
      "cell_type": "code",
      "execution_count": null,
      "metadata": {
        "collapsed": false
      },
      "outputs": [],
      "source": [
        "# Review the resulting files\nprint(results)"
      ]
    },
    {
      "cell_type": "code",
      "execution_count": null,
      "metadata": {
        "collapsed": false
      },
      "outputs": [],
      "source": [
        "# Review the example STAR file contents\nwith open(results[0][1], \"r\") as f:\n    print(f.read())"
      ]
    },
    {
      "cell_type": "code",
      "execution_count": null,
      "metadata": {
        "collapsed": false
      },
      "outputs": [],
      "source": [
        "img_src = CentersCoordinateSource(results, src.particle_box_size)\n# Show the first five images from the image source.\nimg_src.images[:3].show()\n\n# Cleanup the tmp_dir\ntmp_dir.cleanup()"
      ]
    }
  ],
  "metadata": {
    "kernelspec": {
      "display_name": "Python 3",
      "language": "python",
      "name": "python3"
    },
    "language_info": {
      "codemirror_mode": {
        "name": "ipython",
        "version": 3
      },
      "file_extension": ".py",
      "mimetype": "text/x-python",
      "name": "python",
      "nbconvert_exporter": "python",
      "pygments_lexer": "ipython3",
      "version": "3.9.23"
    }
  },
  "nbformat": 4,
  "nbformat_minor": 0
}