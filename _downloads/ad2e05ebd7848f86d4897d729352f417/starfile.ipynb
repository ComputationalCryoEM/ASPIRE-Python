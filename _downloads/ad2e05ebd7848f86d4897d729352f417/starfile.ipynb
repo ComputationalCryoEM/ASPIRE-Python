{
  "cells": [
    {
      "cell_type": "markdown",
      "metadata": {},
      "source": [
        "\n# Starfile\n"
      ]
    },
    {
      "cell_type": "code",
      "execution_count": null,
      "metadata": {
        "collapsed": false
      },
      "outputs": [],
      "source": [
        "import os\n\nimport matplotlib.pyplot as plt\nimport numpy as np\n\nfrom aspire.noise import AnisotropicNoiseEstimator\nfrom aspire.reconstruction import MeanEstimator\nfrom aspire.source import RelionSource"
      ]
    },
    {
      "cell_type": "markdown",
      "metadata": {},
      "source": [
        "## Sources\n\nSources are an interface to various backend stores of data (np arrays, starfiles, etc)\nThey are intended to handle batching data conversion/prep behind the scenes.\nHere we load a \".star\" file using the RelionSource class\n\n"
      ]
    },
    {
      "cell_type": "code",
      "execution_count": null,
      "metadata": {
        "collapsed": false
      },
      "outputs": [],
      "source": [
        "data_folder = os.path.join(os.path.dirname(os.getcwd()), \"data\")\nfile_path = os.path.join(data_folder, \"sample_relion_data.star\")\n\nsource = RelionSource(\n    file_path,\n    pixel_size=1.338,\n    max_rows=10000,\n    data_folder=data_folder,\n)\n\n# Reduce the resolution\nL = 12  # You may try 16 but it takes a significant amount of time.\nsource = source.downsample(L)"
      ]
    },
    {
      "cell_type": "markdown",
      "metadata": {},
      "source": [
        "## Noise Estimation and Whitening\n\n"
      ]
    },
    {
      "cell_type": "code",
      "execution_count": null,
      "metadata": {
        "collapsed": false
      },
      "outputs": [],
      "source": [
        "# Estimate noise in the ImageSource instance\nnoise_estimator = AnisotropicNoiseEstimator(source)\n# Apply whitening to ImageSource\nsource = source.whiten(noise_estimator)\n\n# Display subset of the images\nimages = source.images[:10]\nimages.show()"
      ]
    },
    {
      "cell_type": "markdown",
      "metadata": {},
      "source": [
        "## Estimate Mean Volume\n\n"
      ]
    },
    {
      "cell_type": "code",
      "execution_count": null,
      "metadata": {
        "collapsed": false
      },
      "outputs": [],
      "source": [
        "# Estimate mean Volume\nmean_estimator = MeanEstimator(source, batch_size=8192)\nmean_est = mean_estimator.estimate()"
      ]
    },
    {
      "cell_type": "markdown",
      "metadata": {},
      "source": [
        "## Visualize Volume\n\n"
      ]
    },
    {
      "cell_type": "code",
      "execution_count": null,
      "metadata": {
        "collapsed": false
      },
      "outputs": [],
      "source": [
        "# MeanEstimator.estimate() returns a Volume Instance,\n#   which is wrapper on an ndarray representing a stack of one or more 3d volumes.\n# We will visualize the data via orthogonal projections along the three axes.\n\nvol = mean_est.asnumpy()[0]\n# Visualize volume\nL = vol.shape[0]\n# Plots\nplt.suptitle(\"Orthogonal Projections\", size=20)\nplt.subplot(1, 3, 1, title=\"x-axis\")\nplt.imshow(np.sum(vol, axis=0), cmap=\"gray\")\nplt.subplot(1, 3, 2, title=\"y-axis\")\nplt.imshow(np.sum(vol, axis=1), cmap=\"gray\")\nplt.subplot(1, 3, 3, title=\"z-axis\")\nplt.imshow(np.sum(vol, axis=2), cmap=\"gray\")\nplt.tight_layout()\nplt.subplots_adjust(top=1.25)\nplt.show()"
      ]
    }
  ],
  "metadata": {
    "kernelspec": {
      "display_name": "Python 3",
      "language": "python",
      "name": "python3"
    },
    "language_info": {
      "codemirror_mode": {
        "name": "ipython",
        "version": 3
      },
      "file_extension": ".py",
      "mimetype": "text/x-python",
      "name": "python",
      "nbconvert_exporter": "python",
      "pygments_lexer": "ipython3",
      "version": "3.9.23"
    }
  },
  "nbformat": 4,
  "nbformat_minor": 0
}