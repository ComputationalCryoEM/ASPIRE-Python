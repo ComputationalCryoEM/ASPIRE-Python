{
  "cells": [
    {
      "cell_type": "markdown",
      "metadata": {},
      "source": [
        "\n# Image Preprocessing\n\nThis script illustrates the preprocess steps implemented prior to starting the pipeline of\nreconstructing a 3D map using simulated 2D images.\n"
      ]
    },
    {
      "cell_type": "code",
      "execution_count": null,
      "metadata": {
        "collapsed": false
      },
      "outputs": [],
      "source": [
        "import os\n\nimport matplotlib.pyplot as plt\nimport numpy as np\n\nfrom aspire.noise import WhiteNoiseAdder\nfrom aspire.operators import RadialCTFFilter\nfrom aspire.source.simulation import Simulation\nfrom aspire.volume import Volume\n\nfile_path = os.path.join(\n    os.path.dirname(os.getcwd()), \"data\", \"clean70SRibosome_vol_65p.mrc\"\n)"
      ]
    },
    {
      "cell_type": "markdown",
      "metadata": {},
      "source": [
        "## Specify Parameters\n\n"
      ]
    },
    {
      "cell_type": "code",
      "execution_count": null,
      "metadata": {
        "collapsed": false
      },
      "outputs": [],
      "source": [
        "# Set the initial simulated full size of images.\nimg_size = 33\n\n# Set the demonstration downsampled image size.\nds_img_size = 15\n\n# Set the total number of images generated from the 3D map\nnum_imgs = 512\n\n# Set the noise variance and build the noise filter\nnoise_variance = 4e-1\nnoise_adder = WhiteNoiseAdder(var=noise_variance)\n\n# Specify the CTF parameters not used for this example\n# but necessary for initializing the simulation object\npixel_size = 5 * 65 / img_size  # Pixel size of the images (in angstroms)\nvoltage = 200  # Voltage (in KV)\ndefocus_min = 1.5e4  # Minimum defocus value (in angstroms)\ndefocus_max = 2.5e4  # Maximum defocus value (in angstroms)\ndefocus_ct = 7  # Number of defocus groups\nCs = 2.0  # Spherical aberration\nalpha = 0.1  # Amplitude contrast"
      ]
    },
    {
      "cell_type": "markdown",
      "metadata": {},
      "source": [
        "## Build Simulation Object and Apply Noise\n\n"
      ]
    },
    {
      "cell_type": "code",
      "execution_count": null,
      "metadata": {
        "collapsed": false
      },
      "outputs": [],
      "source": [
        "print(\"Initialize simulation object and CTF filters.\")\n# Create CTF filters\nctf_filters = [\n    RadialCTFFilter(pixel_size, voltage, defocus=d, Cs=2.0, alpha=0.1)\n    for d in np.linspace(defocus_min, defocus_max, defocus_ct)\n]\n\n# Load the map file of a 70S ribosome and downsample the 3D map to desired image size.\nprint(\"Load 3D map from mrc file\")\nvols = Volume.load(file_path)\n\n# Downsample the volume to a desired image size and increase density\n# by 1.0e5 time for a better graph view\nprint(f\"Downsample map to a image size of {img_size} x {img_size} x {img_size}\")\nvols = vols.downsample(img_size) * 1.0e5\n\n# Create a simulation object with specified filters and the downsampled 3D map\nprint(\"Use downsampled map to create simulation object.\")\nsource = Simulation(\n    L=img_size,\n    n=num_imgs,\n    vols=vols,\n    unique_filters=ctf_filters,\n    noise_adder=noise_adder,\n)"
      ]
    },
    {
      "cell_type": "markdown",
      "metadata": {},
      "source": [
        "## Apply Independent Preprocessing Techniques\nNow we'll apply each technique sequentially.  This is easily\naccomplished because each preprocessing technique returns a new\n``ImageSource`` object.  In this case we assign each to a new\nvariable ``source_*``.  That leaves the original ``source`` object\nuntouched.\n\n"
      ]
    },
    {
      "cell_type": "code",
      "execution_count": null,
      "metadata": {
        "collapsed": false
      },
      "outputs": [],
      "source": [
        "print(\"Obtain original images.\")\nimgs_od = source.images[0].asnumpy()\n\nprint(\"Perform phase flip to input images.\")\nsource_pf = source.phase_flip()\n\nprint(f\"Downsample image size to {ds_img_size} X {ds_img_size}\")\nsource_ds = source.downsample(ds_img_size)\n\nprint(\"Normalize images to background noise.\")\nsource_nb = source.normalize_background()\n\nprint(\"Whiten noise of images\")\nsource_wt = source.whiten()\n\nprint(\"Invert the global density contrast if need\")\nsource_rc = source.invert_contrast()"
      ]
    },
    {
      "cell_type": "markdown",
      "metadata": {},
      "source": [
        "### Plot First Image from Each Preprocess Step\nPlot the first images.\n\n"
      ]
    },
    {
      "cell_type": "code",
      "execution_count": null,
      "metadata": {
        "collapsed": false
      },
      "outputs": [],
      "source": [
        "print(\"Plot first image from each preprocess steps\")\nidm = 0\nplt.subplot(2, 3, 1)\nplt.imshow(imgs_od[idm], cmap=\"gray\")\nplt.colorbar(orientation=\"horizontal\")\nplt.title(\"original image\")\n\nplt.subplot(2, 3, 2)\nplt.imshow(source_pf.images[0].asnumpy()[idm], cmap=\"gray\")\nplt.colorbar(orientation=\"horizontal\")\nplt.title(\"phase flip\")\n\nplt.subplot(2, 3, 3)\nplt.imshow(source_ds.images[0].asnumpy()[idm], cmap=\"gray\")\nplt.colorbar(orientation=\"horizontal\")\nplt.title(\"downsample\")\n\nplt.subplot(2, 3, 4)\nplt.imshow(source_nb.images[0].asnumpy()[idm], cmap=\"gray\")\nplt.colorbar(orientation=\"horizontal\")\nplt.title(\"normalize background\")\n\nplt.subplot(2, 3, 5)\nplt.imshow(source_wt.images[0].asnumpy()[idm], cmap=\"gray\")\nplt.colorbar(orientation=\"horizontal\")\nplt.title(\"noise whitening\")\n\nplt.subplot(2, 3, 6)\nplt.imshow(source_rc.images[0].asnumpy()[idm], cmap=\"gray\")\nplt.colorbar(orientation=\"horizontal\")\nplt.title(\"invert contrast\")\nplt.tight_layout()"
      ]
    },
    {
      "cell_type": "markdown",
      "metadata": {},
      "source": [
        "## Apply Sequential Preprocessing Techniques\nNow we'll apply each technique sequentially.\nThis is accomplished by reassigning each new ``ImageSource`` to the same variable.\nIn this case we reassign to ``source``.\nNote, after each ``source`` assignment we'll manually save off the images for the plot below.\n\n"
      ]
    },
    {
      "cell_type": "code",
      "execution_count": null,
      "metadata": {
        "collapsed": false
      },
      "outputs": [],
      "source": [
        "# We'll copy ``source`` so we can use it in a later section.\n# Since ``source`` objects are designed to follow an immutable usage by default (like Numpy arrays),\n# we can copy a source just by copying the object.\nsource_copy = source\n\nprint(\"Obtain original images.\")\nimgs_seq_od = source.images[0].asnumpy()\n\nprint(\"Perform phase flip to input images.\")\nsource = source.phase_flip()\nimgs_seq_pf = source.images[0].asnumpy()\n\nprint(f\"Downsample image size to {ds_img_size} X {ds_img_size}\")\nsource = source.downsample(ds_img_size)\nimgs_seq_ds = source.images[0].asnumpy()\n\nprint(\"Normalize images to background noise.\")\nsource = source.normalize_background()\nimgs_seq_nb = source.images[0].asnumpy()\n\nprint(\"Whiten noise of images\")\nsource = source.whiten()\nimgs_seq_wt = source.images[0].asnumpy()\n\nprint(\"Invert the global density contrast if need\")\nsource = source.invert_contrast()\nimgs_seq_rc = source.images[0].asnumpy()"
      ]
    },
    {
      "cell_type": "markdown",
      "metadata": {},
      "source": [
        "### Plot First Image from Each Preprocess Step\nPlot the first images.\n\n"
      ]
    },
    {
      "cell_type": "code",
      "execution_count": null,
      "metadata": {
        "collapsed": false
      },
      "outputs": [],
      "source": [
        "print(\"Plot first image from each preprocess steps\")\nidm = 0\nplt.subplot(2, 3, 1)\nplt.imshow(imgs_od[idm], cmap=\"gray\")\nplt.colorbar(orientation=\"horizontal\")\nplt.title(\"original image\")\n\nplt.subplot(2, 3, 2)\nplt.imshow(imgs_seq_pf[idm], cmap=\"gray\")\nplt.colorbar(orientation=\"horizontal\")\nplt.title(\"phase flip\")\n\nplt.subplot(2, 3, 3)\nplt.imshow(imgs_seq_ds[idm], cmap=\"gray\")\nplt.colorbar(orientation=\"horizontal\")\nplt.title(\"downsample\")\n\nplt.subplot(2, 3, 4)\nplt.imshow(imgs_seq_nb[idm], cmap=\"gray\")\nplt.colorbar(orientation=\"horizontal\")\nplt.title(\"normalize background\")\n\nplt.subplot(2, 3, 5)\nplt.imshow(imgs_seq_wt[idm], cmap=\"gray\")\nplt.colorbar(orientation=\"horizontal\")\nplt.title(\"noise whitening\")\n\nplt.subplot(2, 3, 6)\nplt.imshow(imgs_seq_rc[idm], cmap=\"gray\")\nplt.colorbar(orientation=\"horizontal\")\nplt.title(\"invert contrast\")\nplt.tight_layout()"
      ]
    },
    {
      "cell_type": "markdown",
      "metadata": {},
      "source": [
        "## Apply Chained Preprocessing Techniques\nNow we'll apply the preprocessing in a chain syntax\n\n"
      ]
    },
    {
      "cell_type": "code",
      "execution_count": null,
      "metadata": {
        "collapsed": false
      },
      "outputs": [],
      "source": [
        "# We'll reset our ``source`` to the reference copy we started with.\nsource = source_copy\n\nprint(\"Perform phase flip to input images.\")\nprint(f\"Downsample image size to {ds_img_size} X {ds_img_size}\")\nprint(\"Normalize images to background noise.\")\nprint(\"Whiten noise of images\")\nprint(\"Invert the global density contrast if need\")\nsource = (\n    source.phase_flip()\n    .downsample(ds_img_size)\n    .normalize_background()\n    .whiten()\n    .invert_contrast()\n)\n# Assign the first image from the preprocessed chain.\nimgs_chained = source.images[0].asnumpy()\n\n# This preprocessing chain should correspond to applying each\n# operation sequentially.\nassert np.allclose(imgs_chained, imgs_seq_rc)"
      ]
    }
  ],
  "metadata": {
    "kernelspec": {
      "display_name": "Python 3",
      "language": "python",
      "name": "python3"
    },
    "language_info": {
      "codemirror_mode": {
        "name": "ipython",
        "version": 3
      },
      "file_extension": ".py",
      "mimetype": "text/x-python",
      "name": "python",
      "nbconvert_exporter": "python",
      "pygments_lexer": "ipython3",
      "version": "3.9.23"
    }
  },
  "nbformat": 4,
  "nbformat_minor": 0
}