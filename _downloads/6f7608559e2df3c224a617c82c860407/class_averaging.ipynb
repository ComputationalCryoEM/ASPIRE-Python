{
  "cells": [
    {
      "cell_type": "markdown",
      "metadata": {},
      "source": [
        "\n# Class Averaging\n\nWe demonstrate class averaging using the rotationally invariant\nrepresentation algorithm.\n"
      ]
    },
    {
      "cell_type": "code",
      "execution_count": null,
      "metadata": {
        "collapsed": false
      },
      "outputs": [],
      "source": [
        "import matplotlib.pyplot as plt\nimport numpy as np\nfrom PIL import Image as PILImage\n\nfrom aspire.denoising import DebugClassAvgSource, DefaultClassAvgSource\nfrom aspire.noise import WhiteNoiseAdder\nfrom aspire.source import ArrayImageSource  # Helpful hint if you want to BYO array.\nfrom aspire.utils import gaussian_2d"
      ]
    },
    {
      "cell_type": "markdown",
      "metadata": {},
      "source": [
        "## Build Simulated Data\n\n"
      ]
    },
    {
      "cell_type": "markdown",
      "metadata": {},
      "source": [
        "### Circular 2D Gaussian Image\n\n"
      ]
    },
    {
      "cell_type": "code",
      "execution_count": null,
      "metadata": {
        "collapsed": false
      },
      "outputs": [],
      "source": [
        "L = 100\nround_disc = gaussian_2d(L, sigma=L / 4)\nplt.imshow(round_disc, cmap=\"gray\")\nplt.show()"
      ]
    },
    {
      "cell_type": "markdown",
      "metadata": {},
      "source": [
        "### Oval 2D Gaussian Image\n\n"
      ]
    },
    {
      "cell_type": "code",
      "execution_count": null,
      "metadata": {
        "collapsed": false
      },
      "outputs": [],
      "source": [
        "oval_disc = gaussian_2d(L, sigma=(L / 20, L / 5))\nplt.imshow(oval_disc, cmap=\"gray\")\nplt.show()"
      ]
    },
    {
      "cell_type": "markdown",
      "metadata": {},
      "source": [
        "### Handed Image\n\nCreate richer test set by including an asymmetric image.\n\n"
      ]
    },
    {
      "cell_type": "code",
      "execution_count": null,
      "metadata": {
        "collapsed": false
      },
      "outputs": [],
      "source": [
        "# Create a second oval.\noval_disc2 = gaussian_2d(L, mu=(L / 5, L / 6), sigma=(L / 15, L / 20))\n\n# Strategically add it to `oval_disc`.\nyoval_discL = oval_disc.copy()\nyoval_discL += oval_disc2\nplt.imshow(yoval_discL, cmap=\"gray\")\nplt.show()"
      ]
    },
    {
      "cell_type": "markdown",
      "metadata": {},
      "source": [
        "### Reflected Image\n\nAlso include the reflection of  the asymmetric image.\n\n"
      ]
    },
    {
      "cell_type": "code",
      "execution_count": null,
      "metadata": {
        "collapsed": false
      },
      "outputs": [],
      "source": [
        "yoval_discR = np.flipud(yoval_discL)\nplt.imshow(yoval_discR, cmap=\"gray\")\nplt.show()"
      ]
    },
    {
      "cell_type": "markdown",
      "metadata": {},
      "source": [
        "### Example Data Set Source\n\nWe concatenate and shuffle 512 rotations of the Gaussian images\nabove to create our data set.\n\n"
      ]
    },
    {
      "cell_type": "code",
      "execution_count": null,
      "metadata": {
        "collapsed": false
      },
      "outputs": [],
      "source": [
        "# How many entries (angles) in our stack\nN = 512\nthetas = np.linspace(start=0, stop=360, num=N, endpoint=False)\n\nclassRound = np.zeros((N, L, L))\nclassOval = np.zeros((N, L, L))\nclassYOvalL = np.zeros((N, L, L))\nclassYOvalR = np.zeros((N, L, L))\n\nfor i, theta in enumerate(thetas):\n    classRound[i] = np.asarray(PILImage.fromarray(round_disc).rotate(theta))\n    classOval[i] = np.asarray(PILImage.fromarray(oval_disc).rotate(theta))\n    classYOvalL[i] = np.asarray(PILImage.fromarray(yoval_discL).rotate(theta))\n    classYOvalR[i] = np.asarray(PILImage.fromarray(yoval_discR).rotate(theta))\n\n# We'll make an example data set by concatentating then shuffling\n# these.\nexample_array = np.concatenate((classRound, classOval, classYOvalL, classYOvalR))\nnp.random.seed(1234567)\nnp.random.shuffle(example_array)\n\n# So now that we have cooked up an example dataset, lets create an\n# ASPIRE source\nsrc = ArrayImageSource(example_array)\n\n# Let's peek at the images to make sure they're shuffled up nicely\nsrc.images[:10].show()"
      ]
    },
    {
      "cell_type": "markdown",
      "metadata": {},
      "source": [
        "## Basic Class Average\n\nThis first example uses the ``DebugClassAvgSource`` to classify\nimages via the rotationally invariant representation\n(``RIRClass2D``) algorithm.  ``DebugClassAvgSource`` internally uses\n``TopClassSelector`` by default.  ``TopClassSelector``\ndeterministically selects the first ``n_classes``.\n``DebugClassAvgSource`` also uses brute force rotational alignment\nwithout shifts.  These simplifications are useful for development\nand debugging.  Later we will discuss the more general\n``ClassAvgSource`` and the modular components that are more suitable\nto simulations and experimental datasets.\n\n"
      ]
    },
    {
      "cell_type": "code",
      "execution_count": null,
      "metadata": {
        "collapsed": false
      },
      "outputs": [],
      "source": [
        "avgs = DebugClassAvgSource(\n    src=src,\n    n_nbor=10,\n)"
      ]
    },
    {
      "cell_type": "markdown",
      "metadata": {},
      "source": [
        ".. note:\n    ``ClassAvgSource``s are lazily evaluated.\n    They will generally compute the classifications, selections,\n    and serve averaged results on request using the `.images[...]`.\n\n"
      ]
    },
    {
      "cell_type": "markdown",
      "metadata": {},
      "source": [
        "### Display Classes\nNow we will request the first 10 images and display them.\n\n"
      ]
    },
    {
      "cell_type": "code",
      "execution_count": null,
      "metadata": {
        "collapsed": false
      },
      "outputs": [],
      "source": [
        "avgs.images[:10].show()"
      ]
    },
    {
      "cell_type": "markdown",
      "metadata": {},
      "source": [
        "## Class Averaging with Noise\n\n"
      ]
    },
    {
      "cell_type": "markdown",
      "metadata": {},
      "source": [
        "### Add Noise to Data Set\n\n"
      ]
    },
    {
      "cell_type": "code",
      "execution_count": null,
      "metadata": {
        "collapsed": false
      },
      "outputs": [],
      "source": [
        "# Using the sample variance, we'll compute a target noise variance\n# Noise\nvar = np.var(src.images[:].asnumpy())\nnoise_var = var * 2**4\n\n# Then create noise with the ``WhiteNoiseAdder`` class.\nnoise = WhiteNoiseAdder(var=noise_var, seed=123)\n\n# Add noise to the images by performing ``forward``\nnoisy_im = noise.forward(src.images[:])\n\n# Recast as an ASPIRE source\nnoisy_src = ArrayImageSource(noisy_im)\n\n# Let's peek at the noisey images\nnoisy_src.images[:10].show()"
      ]
    },
    {
      "cell_type": "markdown",
      "metadata": {},
      "source": [
        "### RIR with Noise\nHere we will use the noise_src.\n\n"
      ]
    },
    {
      "cell_type": "code",
      "execution_count": null,
      "metadata": {
        "collapsed": false
      },
      "outputs": [],
      "source": [
        "avgs = DebugClassAvgSource(\n    src=noisy_src,\n    n_nbor=10,\n)"
      ]
    },
    {
      "cell_type": "markdown",
      "metadata": {},
      "source": [
        "### Display Classes\nHere, on request for images, the class average source will classify,\nselect, and average images.  All this occurs inside the\n``ClassAvgSource`` components.  When using more advanced class\naverage sources, the images are remapped by the `selector`.  In this\ncase, using ``DebugClassAvgSource`` the first 10 images will simply\ncorrespond to the first ten from ``noise_src``.\n\n"
      ]
    },
    {
      "cell_type": "code",
      "execution_count": null,
      "metadata": {
        "collapsed": false
      },
      "outputs": [],
      "source": [
        "avgs.images[:10].show()"
      ]
    },
    {
      "cell_type": "markdown",
      "metadata": {},
      "source": [
        "## Review a class\n\nSelect a class to review in the output.\n\n"
      ]
    },
    {
      "cell_type": "code",
      "execution_count": null,
      "metadata": {
        "collapsed": false
      },
      "outputs": [],
      "source": [
        "review_class = 5\n\n# Map this image from the sorted selection back to the input\n# ``noisy_src``.\n\n# Report the identified neighbor indices with respect to the input\n# ``noise_src``.\nclasses = avgs.class_indices[review_class]\nreflections = avgs.class_refl[review_class]\nprint(f\"Class {review_class}'s neighbors: {classes}\")\nprint(f\"Class {review_class}'s reflections: {reflections}\")\n\n# The original image is the initial image in the class array.\noriginal_image_idx = classes[0]"
      ]
    },
    {
      "cell_type": "markdown",
      "metadata": {},
      "source": [
        "Report the identified neighbors, original is the first image.\n\n"
      ]
    },
    {
      "cell_type": "code",
      "execution_count": null,
      "metadata": {
        "collapsed": false
      },
      "outputs": [],
      "source": [
        "noisy_src.images[classes].show()"
      ]
    },
    {
      "cell_type": "markdown",
      "metadata": {},
      "source": [
        "Display original image.\n\n"
      ]
    },
    {
      "cell_type": "code",
      "execution_count": null,
      "metadata": {
        "collapsed": false
      },
      "outputs": [],
      "source": [
        "noisy_src.images[original_image_idx].show()"
      ]
    },
    {
      "cell_type": "markdown",
      "metadata": {},
      "source": [
        "Display the averaged result\n\n"
      ]
    },
    {
      "cell_type": "code",
      "execution_count": null,
      "metadata": {
        "collapsed": false
      },
      "outputs": [],
      "source": [
        "avgs.images[review_class].show()"
      ]
    },
    {
      "cell_type": "markdown",
      "metadata": {},
      "source": [
        "### Alignment Details\n\nAlignment details are exposed when available from an underlying\n``averager``.  In this case, we'll get the estimated alignments for\nthe ``review_class``.\n\n"
      ]
    },
    {
      "cell_type": "code",
      "execution_count": null,
      "metadata": {
        "collapsed": false
      },
      "outputs": [],
      "source": [
        "est_rotations = avgs.averager.rotations\nest_shifts = avgs.averager.shifts\nest_dot_products = avgs.averager.dot_products\n\nprint(f\"Estimated Rotations: {est_rotations}\")\nprint(f\"Estimated Shifts: {est_shifts}\")\nprint(f\"Estimated Dot Products: {est_dot_products}\")\n\n# Compare the original unaligned images with the estimated alignment.\n# Get the indices from the classification results.\nnbr = 3\noriginal_img_0_idx = classes[0]\noriginal_img_nbr_idx = classes[nbr]\n\n# Lookup the images.\noriginal_img_0 = noisy_src.images[original_img_0_idx].asnumpy()[0]\noriginal_img_nbr = noisy_src.images[original_img_nbr_idx].asnumpy()[0]\n\n# Rotate using estimated rotations.\nangle = est_rotations[0, nbr] * 180 / np.pi\nif reflections[nbr]:\n    print(\"Reflection reported.\")\n    original_img_nbr = np.flipud(original_img_nbr)\nrotated_img_nbr = np.asarray(PILImage.fromarray(original_img_nbr).rotate(angle))\n\nplt.subplot(2, 2, 1)\nplt.title(\"Original Images\")\nplt.imshow(original_img_0)\nplt.xlabel(\"Img 0\")\nplt.subplot(2, 2, 2)\nplt.imshow(original_img_nbr)\nplt.xlabel(f\"Img {nbr}\")\n\nplt.subplot(2, 2, 3)\nplt.title(\"Est Rotation Applied\")\nplt.imshow(original_img_0)\nplt.xlabel(\"Img 0\")\nplt.subplot(2, 2, 4)\nplt.imshow(rotated_img_nbr)\nplt.xlabel(f\"Img {nbr} rotated {angle:.4}*\")\nplt.tight_layout()\nplt.show()"
      ]
    },
    {
      "cell_type": "markdown",
      "metadata": {},
      "source": [
        "## ClassAvgSource Components\nFor more realistic simulations and experimental data,\nASPIRE provides a wholly customizable base ``ClassAvgSource``\nclass. This class expects a user to instantiate and provide\nall components required for class averaging.\n\nTo make things easier a practical starting point\n``DefaultClassAvgSource`` is provided which fills in reasonable\ndefaults based on what is available in the current ASPIRE-Python.\nThe defaults can be overridden simply by instantiating your own\ninstances of components and passing during initialization.\n\n"
      ]
    },
    {
      "cell_type": "code",
      "execution_count": null,
      "metadata": {
        "collapsed": false
      },
      "outputs": [],
      "source": [
        "# Using the defaults requires only passing a source.\n# After understanding the various components that can be\n# combined in a ``ClassAvgSource``, they can be customized\n# or easily extended.\navg_src = DefaultClassAvgSource(noisy_src)"
      ]
    }
  ],
  "metadata": {
    "kernelspec": {
      "display_name": "Python 3",
      "language": "python",
      "name": "python3"
    },
    "language_info": {
      "codemirror_mode": {
        "name": "ipython",
        "version": 3
      },
      "file_extension": ".py",
      "mimetype": "text/x-python",
      "name": "python",
      "nbconvert_exporter": "python",
      "pygments_lexer": "ipython3",
      "version": "3.9.23"
    }
  },
  "nbformat": 4,
  "nbformat_minor": 0
}