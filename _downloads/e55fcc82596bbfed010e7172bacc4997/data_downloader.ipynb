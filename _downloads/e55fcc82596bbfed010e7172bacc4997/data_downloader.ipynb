{
  "cells": [
    {
      "cell_type": "markdown",
      "metadata": {},
      "source": [
        "\n# Data Downloader\n\nThis tutorial reviews ASPIRE's data downloading utility.\n"
      ]
    },
    {
      "cell_type": "markdown",
      "metadata": {},
      "source": [
        "## Data Downloader Introduction\nASPIRE provides a data downloading utility for downloading and caching some\ncommon example datasets. When applicable, the data will be loaded as an appropriate\nASPIRE data type, such a as a ``Volume``, ``Image``, or ``ImageSource`` instance.\n\nBelow we take a look at the current list of datasets available for download.\nsphinx_gallery_start_ignore\nflake8: noqa\nsphinx_gallery_end_ignore\n\n"
      ]
    },
    {
      "cell_type": "code",
      "execution_count": null,
      "metadata": {
        "collapsed": false
      },
      "outputs": [],
      "source": [
        "from aspire import downloader\n\ndownloader.available_downloads()"
      ]
    },
    {
      "cell_type": "markdown",
      "metadata": {},
      "source": [
        "## Data Caching\nBy default, the data downloader selects an appropriate cache directory based\non the user operating system. Usually, the locations will be the following:\n\n"
      ]
    },
    {
      "cell_type": "markdown",
      "metadata": {},
      "source": [
        ".. list-table:: Default Cache Locations\n   :header-rows: 1\n\n   * - OS\n     - Cache Location\n   * - Mac\n     - ~/Library/Caches/ASPIRE-data\n   * - Linux\n     - ~/.cache/ASPIRE-data\n   * - Windows\n     - C:\\\\Users\\\\<user>\\\\AppData\\\\Local\\\\<AppAuthor>\\\\ASPIRE-data\\\\Cache\n\n"
      ]
    },
    {
      "cell_type": "markdown",
      "metadata": {},
      "source": [
        "The cache location is configurable and can be overridden by creating a custom\n``config.yaml``. For example, to change the cache folder to ``/tmp/ASPIRE-data`` create\n``$HOME/.config/ASPIRE/config.yaml`` with the following contents:\n\n```yaml\ncache:\n  cache_dir: /tmp/ASPIRE-data\n```\nSee the [ASPIRE Conguration](https://computationalcryoem.github.io/ASPIRE-Python/auto_tutorials/configuration.html)\ntutorial for more details on customizing your config.\n\n"
      ]
    },
    {
      "cell_type": "markdown",
      "metadata": {},
      "source": [
        "<div class=\"alert alert-info\"><h4>Note</h4><p>All downloads can be cleared from the cache with the ``remove_downloads()`` method::\n\n        downloader.remove_downloads()</p></div>\n\n"
      ]
    },
    {
      "cell_type": "markdown",
      "metadata": {},
      "source": [
        "## Download an Example Dataset\nBelow we will download ``emdb_2660``, a high resolution volume map of the 80s Ribosome\nwhich is sourced from EMDB at https://www.ebi.ac.uk/emdb/EMD-2660. This volume map will\nload as an instance of ASPIRE's ``Volume`` class.\n\n"
      ]
    },
    {
      "cell_type": "code",
      "execution_count": null,
      "metadata": {
        "collapsed": false
      },
      "outputs": [],
      "source": [
        "vol = downloader.emdb_2660()\nvol"
      ]
    },
    {
      "cell_type": "markdown",
      "metadata": {},
      "source": [
        "## View the Data\nWe can take a peek at this data by viewing some projections of the volume.\n\n"
      ]
    },
    {
      "cell_type": "code",
      "execution_count": null,
      "metadata": {
        "collapsed": false
      },
      "outputs": [],
      "source": [
        "import numpy as np\n\nfrom aspire.utils import Rotation\n\nrots = Rotation.about_axis(\"y\", [0, np.pi / 2])\nprojection = vol.project(rots)\nprojection.show()"
      ]
    }
  ],
  "metadata": {
    "kernelspec": {
      "display_name": "Python 3",
      "language": "python",
      "name": "python3"
    },
    "language_info": {
      "codemirror_mode": {
        "name": "ipython",
        "version": 3
      },
      "file_extension": ".py",
      "mimetype": "text/x-python",
      "name": "python",
      "nbconvert_exporter": "python",
      "pygments_lexer": "ipython3",
      "version": "3.9.23"
    }
  },
  "nbformat": 4,
  "nbformat_minor": 0
}