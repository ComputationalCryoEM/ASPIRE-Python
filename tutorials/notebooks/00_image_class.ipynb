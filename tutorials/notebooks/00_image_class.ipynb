{
 "cells": [
  {
   "cell_type": "code",
   "execution_count": null,
   "metadata": {},
   "outputs": [],
   "source": [
    "import numpy as np\n",
    "import matplotlib.pyplot as plt\n",
    "%matplotlib inline\n",
    "\n",
    "from aspire.image import Image\n",
    "\n",
    "img_data = np.load('../data/monuments.npy')\n",
    "print(img_data.shape, img_data.dtype)"
   ]
  },
  {
   "cell_type": "code",
   "execution_count": null,
   "metadata": {},
   "outputs": [],
   "source": [
    "# Create an ASPIRE Image instance from the data\n",
    "#   We'll tell it to convert to floating point data as well.\n",
    "im = Image(img_data, dtype=np.float64)"
   ]
  },
  {
   "cell_type": "code",
   "execution_count": null,
   "metadata": {},
   "outputs": [],
   "source": [
    "# Plot the Image stack\n",
    "im.show()"
   ]
  },
  {
   "cell_type": "code",
   "execution_count": null,
   "metadata": {},
   "outputs": [],
   "source": [
    "# Apply a single shift to each image.\n",
    "shifts = np.array([100, 30]) \n",
    "im.shift(shifts).show()"
   ]
  },
  {
   "cell_type": "code",
   "execution_count": null,
   "metadata": {},
   "outputs": [],
   "source": [
    "# Or apply shifts corresponding to to each image.\n",
    "shifts = np.array([[300*i, 100*i] for i in range(1, im.n_images+1)]) \n",
    "print(shifts)\n",
    "im.shift(shifts).show()"
   ]
  },
  {
   "cell_type": "code",
   "execution_count": null,
   "metadata": {},
   "outputs": [],
   "source": [
    "im.downsample(80).show()"
   ]
  },
  {
   "cell_type": "code",
   "execution_count": null,
   "metadata": {},
   "outputs": [],
   "source": [
    "from aspire.operators import CTFFilter\n",
    "\n",
    "# pixel_size/defous_u/defocus_v in Angstrom, voltage in kV\n",
    "filter = CTFFilter(pixel_size=1, voltage=100, defocus_u=1500, defocus_v=2000)\n",
    "im.filter(filter).show()\n",
    "\n",
    "filter = CTFFilter(pixel_size=1, voltage=1000, defocus_u=1500, defocus_v=2000)\n",
    "im.filter(filter).show()"
   ]
  },
  {
   "cell_type": "code",
   "execution_count": null,
   "metadata": {},
   "outputs": [],
   "source": []
  }
 ],
 "metadata": {
  "kernelspec": {
   "display_name": "Python 3",
   "language": "python",
   "name": "python3"
  },
  "language_info": {
   "codemirror_mode": {
    "name": "ipython",
    "version": 3
   },
   "file_extension": ".py",
   "mimetype": "text/x-python",
   "name": "python",
   "nbconvert_exporter": "python",
   "pygments_lexer": "ipython3",
   "version": "3.6.12"
  }
 },
 "nbformat": 4,
 "nbformat_minor": 2
}
