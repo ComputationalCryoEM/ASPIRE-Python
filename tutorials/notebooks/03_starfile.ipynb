{
 "cells": [
  {
   "cell_type": "code",
   "execution_count": null,
   "metadata": {},
   "outputs": [],
   "source": [
    "import numpy as np\n",
    "import matplotlib.pyplot as plt\n",
    "%matplotlib inline\n",
    "from mpl_toolkits.mplot3d import Axes3D"
   ]
  },
  {
   "cell_type": "code",
   "execution_count": null,
   "metadata": {},
   "outputs": [],
   "source": [
    "from aspire.source import RelionSource\n",
    "from aspire.basis import FBBasis3D\n",
    "from aspire.noise import AnisotropicNoiseEstimator\n",
    "from aspire.reconstruction import MeanEstimator"
   ]
  },
  {
   "cell_type": "code",
   "execution_count": null,
   "metadata": {},
   "outputs": [],
   "source": [
    "# Sources are an interface to various backend stores of data (np arrays, starfiles, etc)\n",
    "# They are intended to handle batching data conversion/prep behind the scenes.\n",
    "# Here we load a \".star\" file using the RelionSource class\n",
    "source = RelionSource('../../tests/saved_test_data/sample_relion_data.star', pixel_size=1.338, max_rows=10000)\n",
    "\n",
    "# Reduce the resolution\n",
    "L = 12  # You may try 16 but it takes a significant amount of time.\n",
    "source.downsample(L)"
   ]
  },
  {
   "cell_type": "code",
   "execution_count": null,
   "metadata": {},
   "outputs": [],
   "source": [
    "# Estimate noise in the ImageSource instance\n",
    "noise_estimator = AnisotropicNoiseEstimator(source)\n",
    "# Apply whitening to ImageSource\n",
    "source.whiten(noise_estimator.filter)\n",
    "\n",
    "# Display subset of the images\n",
    "images = source.images(0, 10)\n",
    "images.show()\n"
   ]
  },
  {
   "cell_type": "code",
   "execution_count": null,
   "metadata": {},
   "outputs": [],
   "source": [
    "# We'll create a 3D Fourier Bessel Basis corresponding to volume resolution L.\n",
    "basis = FBBasis3D((L, L, L))\n",
    "# Estimate mean Volume\n",
    "mean_estimator = MeanEstimator(source, basis, batch_size=8192)\n",
    "mean_est = mean_estimator.estimate()"
   ]
  },
  {
   "cell_type": "code",
   "execution_count": null,
   "metadata": {},
   "outputs": [],
   "source": [
    "# MeanEstimator.estimate() returns a Volume Instance,\n",
    "#   which is wrapper on an ndarray representing a stack of one or more 3d volumes.\n",
    "# Lets try to visualize the data from first volume in the stack.\n",
    "\n",
    "vol = mean_est[0]\n",
    "# Visualize volume\n",
    "L = vol.shape[0]\n",
    "print(vol.shape)\n",
    "x, y, z = np.meshgrid(np.arange(L), np.arange(L), np.arange(L))\n",
    "ax = plt.axes(projection='3d')\n",
    "vol = (vol - np.min(vol))/(np.max(vol)-np.min(vol))\n",
    "cmap = plt.get_cmap(\"Greys_r\")\n",
    "ax.scatter3D(x, y, z, c=vol.flatten(), cmap=cmap)\n",
    "plt.show()\n",
    "\n",
    "# Alternatively view as a contour plot\n",
    "plt.contourf(np.arange(L),np.arange(L), np.sum(vol, axis=0))\n",
    "plt.show()"
   ]
  },
  {
   "cell_type": "code",
   "execution_count": null,
   "metadata": {},
   "outputs": [],
   "source": []
  },
  {
   "cell_type": "code",
   "execution_count": null,
   "metadata": {},
   "outputs": [],
   "source": []
  }
 ],
 "metadata": {
  "kernelspec": {
   "display_name": "Python 3",
   "language": "python",
   "name": "python3"
  },
  "language_info": {
   "codemirror_mode": {
    "name": "ipython",
    "version": 3
   },
   "file_extension": ".py",
   "mimetype": "text/x-python",
   "name": "python",
   "nbconvert_exporter": "python",
   "pygments_lexer": "ipython3",
   "version": "3.6.12"
  }
 },
 "nbformat": 4,
 "nbformat_minor": 2
}
